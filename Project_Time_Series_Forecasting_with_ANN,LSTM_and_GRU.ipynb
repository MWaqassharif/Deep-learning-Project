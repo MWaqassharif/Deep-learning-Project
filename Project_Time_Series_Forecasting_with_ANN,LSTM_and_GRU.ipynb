{
  "cells": [
    {
      "cell_type": "markdown",
      "metadata": {},
      "source": [
        "# Step 1: Import Libraries"
      ]
    },
    {
      "cell_type": "code",
      "execution_count": 127,
      "metadata": {
        "id": "123cfsnqPBcb"
      },
      "outputs": [
        {
          "name": "stdout",
          "output_type": "stream",
          "text": [
            "All libraries have been imported\n"
          ]
        }
      ],
      "source": [
        "import pandas as pd\n",
        "import numpy as np\n",
        "%matplotlib inline\n",
        "import matplotlib.pyplot as plt\n",
        "import plotly.express as px\n",
        "from sklearn.preprocessing import MinMaxScaler\n",
        "from sklearn.metrics import r2_score\n",
        "from keras.models import Sequential\n",
        "from keras.callbacks import EarlyStopping\n",
        "from tensorflow.keras.callbacks import EarlyStopping\n",
        "from keras.optimizers import Adam\n",
        "from tensorflow.keras.layers import Dense, LSTM, GRU\n",
        "print(\"All libraries have been imported\")"
      ]
    },
    {
      "cell_type": "markdown",
      "metadata": {},
      "source": [
        "# Step 2: Load the Dataset"
      ]
    },
    {
      "cell_type": "code",
      "execution_count": 128,
      "metadata": {},
      "outputs": [],
      "source": [
        "df = pd.read_csv('Crudeoil.csv')"
      ]
    },
    {
      "cell_type": "markdown",
      "metadata": {},
      "source": [
        "# Step 3: Explore the Dataset"
      ]
    },
    {
      "cell_type": "markdown",
      "metadata": {},
      "source": [
        "Display the first 10 rows of the dataset"
      ]
    },
    {
      "cell_type": "code",
      "execution_count": 129,
      "metadata": {},
      "outputs": [
        {
          "data": {
            "text/html": [
              "<div>\n",
              "<style scoped>\n",
              "    .dataframe tbody tr th:only-of-type {\n",
              "        vertical-align: middle;\n",
              "    }\n",
              "\n",
              "    .dataframe tbody tr th {\n",
              "        vertical-align: top;\n",
              "    }\n",
              "\n",
              "    .dataframe thead th {\n",
              "        text-align: right;\n",
              "    }\n",
              "</style>\n",
              "<table border=\"1\" class=\"dataframe\">\n",
              "  <thead>\n",
              "    <tr style=\"text-align: right;\">\n",
              "      <th></th>\n",
              "      <th>Date</th>\n",
              "      <th>Open</th>\n",
              "      <th>High</th>\n",
              "      <th>Low</th>\n",
              "      <th>Close</th>\n",
              "      <th>Adj Close</th>\n",
              "      <th>Volume</th>\n",
              "    </tr>\n",
              "  </thead>\n",
              "  <tbody>\n",
              "    <tr>\n",
              "      <th>0</th>\n",
              "      <td>2010-01-04</td>\n",
              "      <td>79.629997</td>\n",
              "      <td>81.680000</td>\n",
              "      <td>79.629997</td>\n",
              "      <td>81.510002</td>\n",
              "      <td>81.510002</td>\n",
              "      <td>120372.0</td>\n",
              "    </tr>\n",
              "    <tr>\n",
              "      <th>1</th>\n",
              "      <td>2010-01-05</td>\n",
              "      <td>81.629997</td>\n",
              "      <td>82.000000</td>\n",
              "      <td>80.949997</td>\n",
              "      <td>81.769997</td>\n",
              "      <td>81.769997</td>\n",
              "      <td>263542.0</td>\n",
              "    </tr>\n",
              "    <tr>\n",
              "      <th>2</th>\n",
              "      <td>2010-01-06</td>\n",
              "      <td>81.430000</td>\n",
              "      <td>83.519997</td>\n",
              "      <td>80.849998</td>\n",
              "      <td>83.180000</td>\n",
              "      <td>83.180000</td>\n",
              "      <td>258887.0</td>\n",
              "    </tr>\n",
              "    <tr>\n",
              "      <th>3</th>\n",
              "      <td>2010-01-07</td>\n",
              "      <td>83.199997</td>\n",
              "      <td>83.360001</td>\n",
              "      <td>82.260002</td>\n",
              "      <td>82.660004</td>\n",
              "      <td>82.660004</td>\n",
              "      <td>370059.0</td>\n",
              "    </tr>\n",
              "    <tr>\n",
              "      <th>4</th>\n",
              "      <td>2010-01-08</td>\n",
              "      <td>82.650002</td>\n",
              "      <td>83.470001</td>\n",
              "      <td>81.800003</td>\n",
              "      <td>82.750000</td>\n",
              "      <td>82.750000</td>\n",
              "      <td>246632.0</td>\n",
              "    </tr>\n",
              "    <tr>\n",
              "      <th>5</th>\n",
              "      <td>2010-01-10</td>\n",
              "      <td>NaN</td>\n",
              "      <td>NaN</td>\n",
              "      <td>NaN</td>\n",
              "      <td>NaN</td>\n",
              "      <td>NaN</td>\n",
              "      <td>NaN</td>\n",
              "    </tr>\n",
              "    <tr>\n",
              "      <th>6</th>\n",
              "      <td>2010-01-11</td>\n",
              "      <td>82.879997</td>\n",
              "      <td>83.949997</td>\n",
              "      <td>81.959999</td>\n",
              "      <td>82.519997</td>\n",
              "      <td>82.519997</td>\n",
              "      <td>310377.0</td>\n",
              "    </tr>\n",
              "    <tr>\n",
              "      <th>7</th>\n",
              "      <td>2010-01-12</td>\n",
              "      <td>82.070000</td>\n",
              "      <td>82.339996</td>\n",
              "      <td>79.910004</td>\n",
              "      <td>80.790001</td>\n",
              "      <td>80.790001</td>\n",
              "      <td>296304.0</td>\n",
              "    </tr>\n",
              "    <tr>\n",
              "      <th>8</th>\n",
              "      <td>2010-01-13</td>\n",
              "      <td>80.059998</td>\n",
              "      <td>80.669998</td>\n",
              "      <td>78.370003</td>\n",
              "      <td>79.650002</td>\n",
              "      <td>79.650002</td>\n",
              "      <td>333866.0</td>\n",
              "    </tr>\n",
              "    <tr>\n",
              "      <th>9</th>\n",
              "      <td>2010-01-14</td>\n",
              "      <td>79.629997</td>\n",
              "      <td>80.360001</td>\n",
              "      <td>78.919998</td>\n",
              "      <td>79.389999</td>\n",
              "      <td>79.389999</td>\n",
              "      <td>401627.0</td>\n",
              "    </tr>\n",
              "  </tbody>\n",
              "</table>\n",
              "</div>"
            ],
            "text/plain": [
              "         Date       Open       High        Low      Close  Adj Close    Volume\n",
              "0  2010-01-04  79.629997  81.680000  79.629997  81.510002  81.510002  120372.0\n",
              "1  2010-01-05  81.629997  82.000000  80.949997  81.769997  81.769997  263542.0\n",
              "2  2010-01-06  81.430000  83.519997  80.849998  83.180000  83.180000  258887.0\n",
              "3  2010-01-07  83.199997  83.360001  82.260002  82.660004  82.660004  370059.0\n",
              "4  2010-01-08  82.650002  83.470001  81.800003  82.750000  82.750000  246632.0\n",
              "5  2010-01-10        NaN        NaN        NaN        NaN        NaN       NaN\n",
              "6  2010-01-11  82.879997  83.949997  81.959999  82.519997  82.519997  310377.0\n",
              "7  2010-01-12  82.070000  82.339996  79.910004  80.790001  80.790001  296304.0\n",
              "8  2010-01-13  80.059998  80.669998  78.370003  79.650002  79.650002  333866.0\n",
              "9  2010-01-14  79.629997  80.360001  78.919998  79.389999  79.389999  401627.0"
            ]
          },
          "execution_count": 129,
          "metadata": {},
          "output_type": "execute_result"
        }
      ],
      "source": [
        "df.head(10)"
      ]
    },
    {
      "cell_type": "markdown",
      "metadata": {},
      "source": [
        "Check the shape of the dataset"
      ]
    },
    {
      "cell_type": "code",
      "execution_count": 130,
      "metadata": {},
      "outputs": [
        {
          "data": {
            "text/plain": [
              "(3038, 7)"
            ]
          },
          "execution_count": 130,
          "metadata": {},
          "output_type": "execute_result"
        }
      ],
      "source": [
        "df.shape"
      ]
    },
    {
      "cell_type": "markdown",
      "metadata": {},
      "source": [
        "Check the data types of each column"
      ]
    },
    {
      "cell_type": "code",
      "execution_count": 131,
      "metadata": {},
      "outputs": [
        {
          "data": {
            "text/plain": [
              "Date          object\n",
              "Open         float64\n",
              "High         float64\n",
              "Low          float64\n",
              "Close        float64\n",
              "Adj Close    float64\n",
              "Volume       float64\n",
              "dtype: object"
            ]
          },
          "execution_count": 131,
          "metadata": {},
          "output_type": "execute_result"
        }
      ],
      "source": [
        "df.dtypes"
      ]
    },
    {
      "cell_type": "code",
      "execution_count": 132,
      "metadata": {},
      "outputs": [
        {
          "name": "stdout",
          "output_type": "stream",
          "text": [
            "<class 'pandas.core.frame.DataFrame'>\n",
            "RangeIndex: 3038 entries, 0 to 3037\n",
            "Data columns (total 7 columns):\n",
            " #   Column     Non-Null Count  Dtype  \n",
            "---  ------     --------------  -----  \n",
            " 0   Date       3038 non-null   object \n",
            " 1   Open       2495 non-null   float64\n",
            " 2   High       2495 non-null   float64\n",
            " 3   Low        2495 non-null   float64\n",
            " 4   Close      2495 non-null   float64\n",
            " 5   Adj Close  2495 non-null   float64\n",
            " 6   Volume     2495 non-null   float64\n",
            "dtypes: float64(6), object(1)\n",
            "memory usage: 166.3+ KB\n"
          ]
        }
      ],
      "source": [
        "df.info()"
      ]
    },
    {
      "cell_type": "markdown",
      "metadata": {},
      "source": [
        "Summary statistics"
      ]
    },
    {
      "cell_type": "code",
      "execution_count": 133,
      "metadata": {},
      "outputs": [
        {
          "data": {
            "text/html": [
              "<div>\n",
              "<style scoped>\n",
              "    .dataframe tbody tr th:only-of-type {\n",
              "        vertical-align: middle;\n",
              "    }\n",
              "\n",
              "    .dataframe tbody tr th {\n",
              "        vertical-align: top;\n",
              "    }\n",
              "\n",
              "    .dataframe thead th {\n",
              "        text-align: right;\n",
              "    }\n",
              "</style>\n",
              "<table border=\"1\" class=\"dataframe\">\n",
              "  <thead>\n",
              "    <tr style=\"text-align: right;\">\n",
              "      <th></th>\n",
              "      <th>count</th>\n",
              "      <th>mean</th>\n",
              "      <th>std</th>\n",
              "      <th>min</th>\n",
              "      <th>25%</th>\n",
              "      <th>50%</th>\n",
              "      <th>75%</th>\n",
              "      <th>max</th>\n",
              "    </tr>\n",
              "  </thead>\n",
              "  <tbody>\n",
              "    <tr>\n",
              "      <th>Open</th>\n",
              "      <td>2495.0</td>\n",
              "      <td>72.514549</td>\n",
              "      <td>21.903052</td>\n",
              "      <td>27.299999</td>\n",
              "      <td>52.365000</td>\n",
              "      <td>71.389999</td>\n",
              "      <td>93.489998</td>\n",
              "      <td>1.138900e+02</td>\n",
              "    </tr>\n",
              "    <tr>\n",
              "      <th>High</th>\n",
              "      <td>2495.0</td>\n",
              "      <td>73.433856</td>\n",
              "      <td>21.967196</td>\n",
              "      <td>27.480000</td>\n",
              "      <td>53.199999</td>\n",
              "      <td>72.290001</td>\n",
              "      <td>94.444999</td>\n",
              "      <td>1.148300e+02</td>\n",
              "    </tr>\n",
              "    <tr>\n",
              "      <th>Low</th>\n",
              "      <td>2495.0</td>\n",
              "      <td>71.494786</td>\n",
              "      <td>21.783320</td>\n",
              "      <td>26.049999</td>\n",
              "      <td>51.409999</td>\n",
              "      <td>70.559998</td>\n",
              "      <td>92.609996</td>\n",
              "      <td>1.122500e+02</td>\n",
              "    </tr>\n",
              "    <tr>\n",
              "      <th>Close</th>\n",
              "      <td>2495.0</td>\n",
              "      <td>72.497194</td>\n",
              "      <td>21.915345</td>\n",
              "      <td>26.209999</td>\n",
              "      <td>52.365000</td>\n",
              "      <td>71.339996</td>\n",
              "      <td>93.535000</td>\n",
              "      <td>1.139300e+02</td>\n",
              "    </tr>\n",
              "    <tr>\n",
              "      <th>Adj Close</th>\n",
              "      <td>2495.0</td>\n",
              "      <td>72.497194</td>\n",
              "      <td>21.915345</td>\n",
              "      <td>26.209999</td>\n",
              "      <td>52.365000</td>\n",
              "      <td>71.339996</td>\n",
              "      <td>93.535000</td>\n",
              "      <td>1.139300e+02</td>\n",
              "    </tr>\n",
              "    <tr>\n",
              "      <th>Volume</th>\n",
              "      <td>2495.0</td>\n",
              "      <td>420210.080561</td>\n",
              "      <td>213220.944451</td>\n",
              "      <td>48516.000000</td>\n",
              "      <td>255598.500000</td>\n",
              "      <td>356179.000000</td>\n",
              "      <td>566820.000000</td>\n",
              "      <td>1.404916e+06</td>\n",
              "    </tr>\n",
              "  </tbody>\n",
              "</table>\n",
              "</div>"
            ],
            "text/plain": [
              "            count           mean            std           min            25%  \\\n",
              "Open       2495.0      72.514549      21.903052     27.299999      52.365000   \n",
              "High       2495.0      73.433856      21.967196     27.480000      53.199999   \n",
              "Low        2495.0      71.494786      21.783320     26.049999      51.409999   \n",
              "Close      2495.0      72.497194      21.915345     26.209999      52.365000   \n",
              "Adj Close  2495.0      72.497194      21.915345     26.209999      52.365000   \n",
              "Volume     2495.0  420210.080561  213220.944451  48516.000000  255598.500000   \n",
              "\n",
              "                     50%            75%           max  \n",
              "Open           71.389999      93.489998  1.138900e+02  \n",
              "High           72.290001      94.444999  1.148300e+02  \n",
              "Low            70.559998      92.609996  1.122500e+02  \n",
              "Close          71.339996      93.535000  1.139300e+02  \n",
              "Adj Close      71.339996      93.535000  1.139300e+02  \n",
              "Volume     356179.000000  566820.000000  1.404916e+06  "
            ]
          },
          "execution_count": 133,
          "metadata": {},
          "output_type": "execute_result"
        }
      ],
      "source": [
        "df.describe().T"
      ]
    },
    {
      "cell_type": "markdown",
      "metadata": {},
      "source": [
        "# Step 3: Data cleaning and preprocessing\n"
      ]
    },
    {
      "cell_type": "markdown",
      "metadata": {},
      "source": [
        "Check the missing value"
      ]
    },
    {
      "cell_type": "code",
      "execution_count": 134,
      "metadata": {},
      "outputs": [
        {
          "data": {
            "text/plain": [
              "Date           0\n",
              "Open         543\n",
              "High         543\n",
              "Low          543\n",
              "Close        543\n",
              "Adj Close    543\n",
              "Volume       543\n",
              "dtype: int64"
            ]
          },
          "execution_count": 134,
          "metadata": {},
          "output_type": "execute_result"
        }
      ],
      "source": [
        "df.isnull().sum()"
      ]
    },
    {
      "cell_type": "markdown",
      "metadata": {},
      "source": [
        "Drop rows with missing values"
      ]
    },
    {
      "cell_type": "code",
      "execution_count": 135,
      "metadata": {},
      "outputs": [
        {
          "data": {
            "text/html": [
              "<div>\n",
              "<style scoped>\n",
              "    .dataframe tbody tr th:only-of-type {\n",
              "        vertical-align: middle;\n",
              "    }\n",
              "\n",
              "    .dataframe tbody tr th {\n",
              "        vertical-align: top;\n",
              "    }\n",
              "\n",
              "    .dataframe thead th {\n",
              "        text-align: right;\n",
              "    }\n",
              "</style>\n",
              "<table border=\"1\" class=\"dataframe\">\n",
              "  <thead>\n",
              "    <tr style=\"text-align: right;\">\n",
              "      <th></th>\n",
              "      <th>Date</th>\n",
              "      <th>Open</th>\n",
              "      <th>High</th>\n",
              "      <th>Low</th>\n",
              "      <th>Close</th>\n",
              "      <th>Adj Close</th>\n",
              "      <th>Volume</th>\n",
              "    </tr>\n",
              "  </thead>\n",
              "  <tbody>\n",
              "    <tr>\n",
              "      <th>0</th>\n",
              "      <td>2010-01-04</td>\n",
              "      <td>79.629997</td>\n",
              "      <td>81.680000</td>\n",
              "      <td>79.629997</td>\n",
              "      <td>81.510002</td>\n",
              "      <td>81.510002</td>\n",
              "      <td>120372.0</td>\n",
              "    </tr>\n",
              "    <tr>\n",
              "      <th>1</th>\n",
              "      <td>2010-01-05</td>\n",
              "      <td>81.629997</td>\n",
              "      <td>82.000000</td>\n",
              "      <td>80.949997</td>\n",
              "      <td>81.769997</td>\n",
              "      <td>81.769997</td>\n",
              "      <td>263542.0</td>\n",
              "    </tr>\n",
              "    <tr>\n",
              "      <th>2</th>\n",
              "      <td>2010-01-06</td>\n",
              "      <td>81.430000</td>\n",
              "      <td>83.519997</td>\n",
              "      <td>80.849998</td>\n",
              "      <td>83.180000</td>\n",
              "      <td>83.180000</td>\n",
              "      <td>258887.0</td>\n",
              "    </tr>\n",
              "    <tr>\n",
              "      <th>3</th>\n",
              "      <td>2010-01-07</td>\n",
              "      <td>83.199997</td>\n",
              "      <td>83.360001</td>\n",
              "      <td>82.260002</td>\n",
              "      <td>82.660004</td>\n",
              "      <td>82.660004</td>\n",
              "      <td>370059.0</td>\n",
              "    </tr>\n",
              "    <tr>\n",
              "      <th>4</th>\n",
              "      <td>2010-01-08</td>\n",
              "      <td>82.650002</td>\n",
              "      <td>83.470001</td>\n",
              "      <td>81.800003</td>\n",
              "      <td>82.750000</td>\n",
              "      <td>82.750000</td>\n",
              "      <td>246632.0</td>\n",
              "    </tr>\n",
              "    <tr>\n",
              "      <th>6</th>\n",
              "      <td>2010-01-11</td>\n",
              "      <td>82.879997</td>\n",
              "      <td>83.949997</td>\n",
              "      <td>81.959999</td>\n",
              "      <td>82.519997</td>\n",
              "      <td>82.519997</td>\n",
              "      <td>310377.0</td>\n",
              "    </tr>\n",
              "    <tr>\n",
              "      <th>7</th>\n",
              "      <td>2010-01-12</td>\n",
              "      <td>82.070000</td>\n",
              "      <td>82.339996</td>\n",
              "      <td>79.910004</td>\n",
              "      <td>80.790001</td>\n",
              "      <td>80.790001</td>\n",
              "      <td>296304.0</td>\n",
              "    </tr>\n",
              "    <tr>\n",
              "      <th>8</th>\n",
              "      <td>2010-01-13</td>\n",
              "      <td>80.059998</td>\n",
              "      <td>80.669998</td>\n",
              "      <td>78.370003</td>\n",
              "      <td>79.650002</td>\n",
              "      <td>79.650002</td>\n",
              "      <td>333866.0</td>\n",
              "    </tr>\n",
              "    <tr>\n",
              "      <th>9</th>\n",
              "      <td>2010-01-14</td>\n",
              "      <td>79.629997</td>\n",
              "      <td>80.360001</td>\n",
              "      <td>78.919998</td>\n",
              "      <td>79.389999</td>\n",
              "      <td>79.389999</td>\n",
              "      <td>401627.0</td>\n",
              "    </tr>\n",
              "    <tr>\n",
              "      <th>10</th>\n",
              "      <td>2010-01-15</td>\n",
              "      <td>79.199997</td>\n",
              "      <td>79.309998</td>\n",
              "      <td>77.699997</td>\n",
              "      <td>78.000000</td>\n",
              "      <td>78.000000</td>\n",
              "      <td>275404.0</td>\n",
              "    </tr>\n",
              "  </tbody>\n",
              "</table>\n",
              "</div>"
            ],
            "text/plain": [
              "          Date       Open       High        Low      Close  Adj Close  \\\n",
              "0   2010-01-04  79.629997  81.680000  79.629997  81.510002  81.510002   \n",
              "1   2010-01-05  81.629997  82.000000  80.949997  81.769997  81.769997   \n",
              "2   2010-01-06  81.430000  83.519997  80.849998  83.180000  83.180000   \n",
              "3   2010-01-07  83.199997  83.360001  82.260002  82.660004  82.660004   \n",
              "4   2010-01-08  82.650002  83.470001  81.800003  82.750000  82.750000   \n",
              "6   2010-01-11  82.879997  83.949997  81.959999  82.519997  82.519997   \n",
              "7   2010-01-12  82.070000  82.339996  79.910004  80.790001  80.790001   \n",
              "8   2010-01-13  80.059998  80.669998  78.370003  79.650002  79.650002   \n",
              "9   2010-01-14  79.629997  80.360001  78.919998  79.389999  79.389999   \n",
              "10  2010-01-15  79.199997  79.309998  77.699997  78.000000  78.000000   \n",
              "\n",
              "      Volume  \n",
              "0   120372.0  \n",
              "1   263542.0  \n",
              "2   258887.0  \n",
              "3   370059.0  \n",
              "4   246632.0  \n",
              "6   310377.0  \n",
              "7   296304.0  \n",
              "8   333866.0  \n",
              "9   401627.0  \n",
              "10  275404.0  "
            ]
          },
          "execution_count": 135,
          "metadata": {},
          "output_type": "execute_result"
        }
      ],
      "source": [
        "df.dropna(inplace=True)\n",
        "df.head(10)"
      ]
    },
    {
      "cell_type": "code",
      "execution_count": 136,
      "metadata": {},
      "outputs": [
        {
          "data": {
            "text/html": [
              "<div>\n",
              "<style scoped>\n",
              "    .dataframe tbody tr th:only-of-type {\n",
              "        vertical-align: middle;\n",
              "    }\n",
              "\n",
              "    .dataframe tbody tr th {\n",
              "        vertical-align: top;\n",
              "    }\n",
              "\n",
              "    .dataframe thead th {\n",
              "        text-align: right;\n",
              "    }\n",
              "</style>\n",
              "<table border=\"1\" class=\"dataframe\">\n",
              "  <thead>\n",
              "    <tr style=\"text-align: right;\">\n",
              "      <th></th>\n",
              "      <th>Open</th>\n",
              "      <th>High</th>\n",
              "      <th>Low</th>\n",
              "      <th>Close</th>\n",
              "      <th>Adj Close</th>\n",
              "      <th>Volume</th>\n",
              "    </tr>\n",
              "    <tr>\n",
              "      <th>Date</th>\n",
              "      <th></th>\n",
              "      <th></th>\n",
              "      <th></th>\n",
              "      <th></th>\n",
              "      <th></th>\n",
              "      <th></th>\n",
              "    </tr>\n",
              "  </thead>\n",
              "  <tbody>\n",
              "    <tr>\n",
              "      <th>2010-01-04</th>\n",
              "      <td>79.629997</td>\n",
              "      <td>81.680000</td>\n",
              "      <td>79.629997</td>\n",
              "      <td>81.510002</td>\n",
              "      <td>81.510002</td>\n",
              "      <td>120372.0</td>\n",
              "    </tr>\n",
              "    <tr>\n",
              "      <th>2010-01-05</th>\n",
              "      <td>81.629997</td>\n",
              "      <td>82.000000</td>\n",
              "      <td>80.949997</td>\n",
              "      <td>81.769997</td>\n",
              "      <td>81.769997</td>\n",
              "      <td>263542.0</td>\n",
              "    </tr>\n",
              "    <tr>\n",
              "      <th>2010-01-06</th>\n",
              "      <td>81.430000</td>\n",
              "      <td>83.519997</td>\n",
              "      <td>80.849998</td>\n",
              "      <td>83.180000</td>\n",
              "      <td>83.180000</td>\n",
              "      <td>258887.0</td>\n",
              "    </tr>\n",
              "    <tr>\n",
              "      <th>2010-01-07</th>\n",
              "      <td>83.199997</td>\n",
              "      <td>83.360001</td>\n",
              "      <td>82.260002</td>\n",
              "      <td>82.660004</td>\n",
              "      <td>82.660004</td>\n",
              "      <td>370059.0</td>\n",
              "    </tr>\n",
              "    <tr>\n",
              "      <th>2010-01-08</th>\n",
              "      <td>82.650002</td>\n",
              "      <td>83.470001</td>\n",
              "      <td>81.800003</td>\n",
              "      <td>82.750000</td>\n",
              "      <td>82.750000</td>\n",
              "      <td>246632.0</td>\n",
              "    </tr>\n",
              "    <tr>\n",
              "      <th>2010-01-11</th>\n",
              "      <td>82.879997</td>\n",
              "      <td>83.949997</td>\n",
              "      <td>81.959999</td>\n",
              "      <td>82.519997</td>\n",
              "      <td>82.519997</td>\n",
              "      <td>310377.0</td>\n",
              "    </tr>\n",
              "    <tr>\n",
              "      <th>2010-01-12</th>\n",
              "      <td>82.070000</td>\n",
              "      <td>82.339996</td>\n",
              "      <td>79.910004</td>\n",
              "      <td>80.790001</td>\n",
              "      <td>80.790001</td>\n",
              "      <td>296304.0</td>\n",
              "    </tr>\n",
              "    <tr>\n",
              "      <th>2010-01-13</th>\n",
              "      <td>80.059998</td>\n",
              "      <td>80.669998</td>\n",
              "      <td>78.370003</td>\n",
              "      <td>79.650002</td>\n",
              "      <td>79.650002</td>\n",
              "      <td>333866.0</td>\n",
              "    </tr>\n",
              "    <tr>\n",
              "      <th>2010-01-14</th>\n",
              "      <td>79.629997</td>\n",
              "      <td>80.360001</td>\n",
              "      <td>78.919998</td>\n",
              "      <td>79.389999</td>\n",
              "      <td>79.389999</td>\n",
              "      <td>401627.0</td>\n",
              "    </tr>\n",
              "    <tr>\n",
              "      <th>2010-01-15</th>\n",
              "      <td>79.199997</td>\n",
              "      <td>79.309998</td>\n",
              "      <td>77.699997</td>\n",
              "      <td>78.000000</td>\n",
              "      <td>78.000000</td>\n",
              "      <td>275404.0</td>\n",
              "    </tr>\n",
              "  </tbody>\n",
              "</table>\n",
              "</div>"
            ],
            "text/plain": [
              "                 Open       High        Low      Close  Adj Close    Volume\n",
              "Date                                                                       \n",
              "2010-01-04  79.629997  81.680000  79.629997  81.510002  81.510002  120372.0\n",
              "2010-01-05  81.629997  82.000000  80.949997  81.769997  81.769997  263542.0\n",
              "2010-01-06  81.430000  83.519997  80.849998  83.180000  83.180000  258887.0\n",
              "2010-01-07  83.199997  83.360001  82.260002  82.660004  82.660004  370059.0\n",
              "2010-01-08  82.650002  83.470001  81.800003  82.750000  82.750000  246632.0\n",
              "2010-01-11  82.879997  83.949997  81.959999  82.519997  82.519997  310377.0\n",
              "2010-01-12  82.070000  82.339996  79.910004  80.790001  80.790001  296304.0\n",
              "2010-01-13  80.059998  80.669998  78.370003  79.650002  79.650002  333866.0\n",
              "2010-01-14  79.629997  80.360001  78.919998  79.389999  79.389999  401627.0\n",
              "2010-01-15  79.199997  79.309998  77.699997  78.000000  78.000000  275404.0"
            ]
          },
          "execution_count": 136,
          "metadata": {},
          "output_type": "execute_result"
        }
      ],
      "source": [
        "df['Date'] = pd.to_datetime(df['Date'])\n",
        "df.set_index('Date', inplace=True)\n",
        "df.head(10)"
      ]
    },
    {
      "cell_type": "code",
      "execution_count": 137,
      "metadata": {},
      "outputs": [
        {
          "data": {
            "text/plain": [
              "Open         0\n",
              "High         0\n",
              "Low          0\n",
              "Close        0\n",
              "Adj Close    0\n",
              "Volume       0\n",
              "dtype: int64"
            ]
          },
          "execution_count": 137,
          "metadata": {},
          "output_type": "execute_result"
        }
      ],
      "source": [
        "df.isnull().sum()"
      ]
    },
    {
      "cell_type": "markdown",
      "metadata": {},
      "source": [
        "# Split the data into training and testing sets"
      ]
    },
    {
      "cell_type": "code",
      "execution_count": 138,
      "metadata": {},
      "outputs": [
        {
          "data": {
            "text/plain": [
              "2495"
            ]
          },
          "execution_count": 138,
          "metadata": {},
          "output_type": "execute_result"
        }
      ],
      "source": [
        "len(df)"
      ]
    },
    {
      "cell_type": "code",
      "execution_count": 139,
      "metadata": {},
      "outputs": [],
      "source": [
        "train_size = int(len(df) * 0.8)\n",
        "test_size = int(len(df) * 0.8)\n",
        "train_data, test_data = df[:train_size], df[train_size:]\n"
      ]
    },
    {
      "cell_type": "code",
      "execution_count": 140,
      "metadata": {},
      "outputs": [
        {
          "data": {
            "text/html": [
              "<div>\n",
              "<style scoped>\n",
              "    .dataframe tbody tr th:only-of-type {\n",
              "        vertical-align: middle;\n",
              "    }\n",
              "\n",
              "    .dataframe tbody tr th {\n",
              "        vertical-align: top;\n",
              "    }\n",
              "\n",
              "    .dataframe thead th {\n",
              "        text-align: right;\n",
              "    }\n",
              "</style>\n",
              "<table border=\"1\" class=\"dataframe\">\n",
              "  <thead>\n",
              "    <tr style=\"text-align: right;\">\n",
              "      <th></th>\n",
              "      <th>Open</th>\n",
              "      <th>High</th>\n",
              "      <th>Low</th>\n",
              "      <th>Close</th>\n",
              "      <th>Adj Close</th>\n",
              "      <th>Volume</th>\n",
              "    </tr>\n",
              "    <tr>\n",
              "      <th>Date</th>\n",
              "      <th></th>\n",
              "      <th></th>\n",
              "      <th></th>\n",
              "      <th></th>\n",
              "      <th></th>\n",
              "      <th></th>\n",
              "    </tr>\n",
              "  </thead>\n",
              "  <tbody>\n",
              "    <tr>\n",
              "      <th>2010-01-04</th>\n",
              "      <td>79.629997</td>\n",
              "      <td>81.680000</td>\n",
              "      <td>79.629997</td>\n",
              "      <td>81.510002</td>\n",
              "      <td>81.510002</td>\n",
              "      <td>120372.0</td>\n",
              "    </tr>\n",
              "    <tr>\n",
              "      <th>2010-01-05</th>\n",
              "      <td>81.629997</td>\n",
              "      <td>82.000000</td>\n",
              "      <td>80.949997</td>\n",
              "      <td>81.769997</td>\n",
              "      <td>81.769997</td>\n",
              "      <td>263542.0</td>\n",
              "    </tr>\n",
              "    <tr>\n",
              "      <th>2010-01-06</th>\n",
              "      <td>81.430000</td>\n",
              "      <td>83.519997</td>\n",
              "      <td>80.849998</td>\n",
              "      <td>83.180000</td>\n",
              "      <td>83.180000</td>\n",
              "      <td>258887.0</td>\n",
              "    </tr>\n",
              "    <tr>\n",
              "      <th>2010-01-07</th>\n",
              "      <td>83.199997</td>\n",
              "      <td>83.360001</td>\n",
              "      <td>82.260002</td>\n",
              "      <td>82.660004</td>\n",
              "      <td>82.660004</td>\n",
              "      <td>370059.0</td>\n",
              "    </tr>\n",
              "    <tr>\n",
              "      <th>2010-01-08</th>\n",
              "      <td>82.650002</td>\n",
              "      <td>83.470001</td>\n",
              "      <td>81.800003</td>\n",
              "      <td>82.750000</td>\n",
              "      <td>82.750000</td>\n",
              "      <td>246632.0</td>\n",
              "    </tr>\n",
              "    <tr>\n",
              "      <th>...</th>\n",
              "      <td>...</td>\n",
              "      <td>...</td>\n",
              "      <td>...</td>\n",
              "      <td>...</td>\n",
              "      <td>...</td>\n",
              "      <td>...</td>\n",
              "    </tr>\n",
              "    <tr>\n",
              "      <th>2017-12-20</th>\n",
              "      <td>57.660000</td>\n",
              "      <td>58.119999</td>\n",
              "      <td>57.439999</td>\n",
              "      <td>58.090000</td>\n",
              "      <td>58.090000</td>\n",
              "      <td>420784.0</td>\n",
              "    </tr>\n",
              "    <tr>\n",
              "      <th>2017-12-21</th>\n",
              "      <td>58.020000</td>\n",
              "      <td>58.380001</td>\n",
              "      <td>57.630001</td>\n",
              "      <td>58.360001</td>\n",
              "      <td>58.360001</td>\n",
              "      <td>420844.0</td>\n",
              "    </tr>\n",
              "    <tr>\n",
              "      <th>2017-12-22</th>\n",
              "      <td>58.209999</td>\n",
              "      <td>58.500000</td>\n",
              "      <td>57.869999</td>\n",
              "      <td>58.470001</td>\n",
              "      <td>58.470001</td>\n",
              "      <td>405320.0</td>\n",
              "    </tr>\n",
              "    <tr>\n",
              "      <th>2017-12-26</th>\n",
              "      <td>58.400002</td>\n",
              "      <td>60.009998</td>\n",
              "      <td>58.320000</td>\n",
              "      <td>59.970001</td>\n",
              "      <td>59.970001</td>\n",
              "      <td>324554.0</td>\n",
              "    </tr>\n",
              "    <tr>\n",
              "      <th>2017-12-27</th>\n",
              "      <td>59.790001</td>\n",
              "      <td>59.930000</td>\n",
              "      <td>59.330002</td>\n",
              "      <td>59.639999</td>\n",
              "      <td>59.639999</td>\n",
              "      <td>437785.0</td>\n",
              "    </tr>\n",
              "  </tbody>\n",
              "</table>\n",
              "<p>1996 rows × 6 columns</p>\n",
              "</div>"
            ],
            "text/plain": [
              "                 Open       High        Low      Close  Adj Close    Volume\n",
              "Date                                                                       \n",
              "2010-01-04  79.629997  81.680000  79.629997  81.510002  81.510002  120372.0\n",
              "2010-01-05  81.629997  82.000000  80.949997  81.769997  81.769997  263542.0\n",
              "2010-01-06  81.430000  83.519997  80.849998  83.180000  83.180000  258887.0\n",
              "2010-01-07  83.199997  83.360001  82.260002  82.660004  82.660004  370059.0\n",
              "2010-01-08  82.650002  83.470001  81.800003  82.750000  82.750000  246632.0\n",
              "...               ...        ...        ...        ...        ...       ...\n",
              "2017-12-20  57.660000  58.119999  57.439999  58.090000  58.090000  420784.0\n",
              "2017-12-21  58.020000  58.380001  57.630001  58.360001  58.360001  420844.0\n",
              "2017-12-22  58.209999  58.500000  57.869999  58.470001  58.470001  405320.0\n",
              "2017-12-26  58.400002  60.009998  58.320000  59.970001  59.970001  324554.0\n",
              "2017-12-27  59.790001  59.930000  59.330002  59.639999  59.639999  437785.0\n",
              "\n",
              "[1996 rows x 6 columns]"
            ]
          },
          "execution_count": 140,
          "metadata": {},
          "output_type": "execute_result"
        }
      ],
      "source": [
        "train_data"
      ]
    },
    {
      "cell_type": "code",
      "execution_count": 141,
      "metadata": {},
      "outputs": [
        {
          "data": {
            "text/html": [
              "<div>\n",
              "<style scoped>\n",
              "    .dataframe tbody tr th:only-of-type {\n",
              "        vertical-align: middle;\n",
              "    }\n",
              "\n",
              "    .dataframe tbody tr th {\n",
              "        vertical-align: top;\n",
              "    }\n",
              "\n",
              "    .dataframe thead th {\n",
              "        text-align: right;\n",
              "    }\n",
              "</style>\n",
              "<table border=\"1\" class=\"dataframe\">\n",
              "  <thead>\n",
              "    <tr style=\"text-align: right;\">\n",
              "      <th></th>\n",
              "      <th>Open</th>\n",
              "      <th>High</th>\n",
              "      <th>Low</th>\n",
              "      <th>Close</th>\n",
              "      <th>Adj Close</th>\n",
              "      <th>Volume</th>\n",
              "    </tr>\n",
              "    <tr>\n",
              "      <th>Date</th>\n",
              "      <th></th>\n",
              "      <th></th>\n",
              "      <th></th>\n",
              "      <th></th>\n",
              "      <th></th>\n",
              "      <th></th>\n",
              "    </tr>\n",
              "  </thead>\n",
              "  <tbody>\n",
              "    <tr>\n",
              "      <th>2017-12-28</th>\n",
              "      <td>59.529999</td>\n",
              "      <td>59.939999</td>\n",
              "      <td>59.439999</td>\n",
              "      <td>59.840000</td>\n",
              "      <td>59.840000</td>\n",
              "      <td>402396.0</td>\n",
              "    </tr>\n",
              "    <tr>\n",
              "      <th>2017-12-29</th>\n",
              "      <td>59.910000</td>\n",
              "      <td>60.509998</td>\n",
              "      <td>59.820000</td>\n",
              "      <td>60.419998</td>\n",
              "      <td>60.419998</td>\n",
              "      <td>345962.0</td>\n",
              "    </tr>\n",
              "    <tr>\n",
              "      <th>2018-01-02</th>\n",
              "      <td>60.200001</td>\n",
              "      <td>60.740002</td>\n",
              "      <td>60.099998</td>\n",
              "      <td>60.369999</td>\n",
              "      <td>60.369999</td>\n",
              "      <td>464478.0</td>\n",
              "    </tr>\n",
              "    <tr>\n",
              "      <th>2018-01-03</th>\n",
              "      <td>60.389999</td>\n",
              "      <td>61.970001</td>\n",
              "      <td>60.279999</td>\n",
              "      <td>61.630001</td>\n",
              "      <td>61.630001</td>\n",
              "      <td>510313.0</td>\n",
              "    </tr>\n",
              "    <tr>\n",
              "      <th>2018-01-04</th>\n",
              "      <td>61.959999</td>\n",
              "      <td>62.209999</td>\n",
              "      <td>61.590000</td>\n",
              "      <td>62.009998</td>\n",
              "      <td>62.009998</td>\n",
              "      <td>673859.0</td>\n",
              "    </tr>\n",
              "    <tr>\n",
              "      <th>...</th>\n",
              "      <td>...</td>\n",
              "      <td>...</td>\n",
              "      <td>...</td>\n",
              "      <td>...</td>\n",
              "      <td>...</td>\n",
              "      <td>...</td>\n",
              "    </tr>\n",
              "    <tr>\n",
              "      <th>2019-12-23</th>\n",
              "      <td>60.410000</td>\n",
              "      <td>60.770000</td>\n",
              "      <td>60.099998</td>\n",
              "      <td>60.520000</td>\n",
              "      <td>60.520000</td>\n",
              "      <td>552517.0</td>\n",
              "    </tr>\n",
              "    <tr>\n",
              "      <th>2019-12-26</th>\n",
              "      <td>61.200001</td>\n",
              "      <td>61.830002</td>\n",
              "      <td>61.060001</td>\n",
              "      <td>61.680000</td>\n",
              "      <td>61.680000</td>\n",
              "      <td>204535.0</td>\n",
              "    </tr>\n",
              "    <tr>\n",
              "      <th>2019-12-27</th>\n",
              "      <td>61.730000</td>\n",
              "      <td>61.970001</td>\n",
              "      <td>61.240002</td>\n",
              "      <td>61.720001</td>\n",
              "      <td>61.720001</td>\n",
              "      <td>265091.0</td>\n",
              "    </tr>\n",
              "    <tr>\n",
              "      <th>2019-12-30</th>\n",
              "      <td>61.709999</td>\n",
              "      <td>62.340000</td>\n",
              "      <td>61.090000</td>\n",
              "      <td>61.680000</td>\n",
              "      <td>61.680000</td>\n",
              "      <td>351899.0</td>\n",
              "    </tr>\n",
              "    <tr>\n",
              "      <th>2019-12-31</th>\n",
              "      <td>61.680000</td>\n",
              "      <td>61.880001</td>\n",
              "      <td>60.630001</td>\n",
              "      <td>61.060001</td>\n",
              "      <td>61.060001</td>\n",
              "      <td>427149.0</td>\n",
              "    </tr>\n",
              "  </tbody>\n",
              "</table>\n",
              "<p>499 rows × 6 columns</p>\n",
              "</div>"
            ],
            "text/plain": [
              "                 Open       High        Low      Close  Adj Close    Volume\n",
              "Date                                                                       \n",
              "2017-12-28  59.529999  59.939999  59.439999  59.840000  59.840000  402396.0\n",
              "2017-12-29  59.910000  60.509998  59.820000  60.419998  60.419998  345962.0\n",
              "2018-01-02  60.200001  60.740002  60.099998  60.369999  60.369999  464478.0\n",
              "2018-01-03  60.389999  61.970001  60.279999  61.630001  61.630001  510313.0\n",
              "2018-01-04  61.959999  62.209999  61.590000  62.009998  62.009998  673859.0\n",
              "...               ...        ...        ...        ...        ...       ...\n",
              "2019-12-23  60.410000  60.770000  60.099998  60.520000  60.520000  552517.0\n",
              "2019-12-26  61.200001  61.830002  61.060001  61.680000  61.680000  204535.0\n",
              "2019-12-27  61.730000  61.970001  61.240002  61.720001  61.720001  265091.0\n",
              "2019-12-30  61.709999  62.340000  61.090000  61.680000  61.680000  351899.0\n",
              "2019-12-31  61.680000  61.880001  60.630001  61.060001  61.060001  427149.0\n",
              "\n",
              "[499 rows x 6 columns]"
            ]
          },
          "execution_count": 141,
          "metadata": {},
          "output_type": "execute_result"
        }
      ],
      "source": [
        "test_data"
      ]
    },
    {
      "cell_type": "code",
      "execution_count": 142,
      "metadata": {},
      "outputs": [
        {
          "name": "stdout",
          "output_type": "stream",
          "text": [
            "1996\n",
            "1996\n",
            "(1996, 6)\n",
            "(499, 6)\n"
          ]
        }
      ],
      "source": [
        "print(train_size)\n",
        "print(test_size)\n",
        "print(train_data.shape)\n",
        "print(test_data.shape)"
      ]
    },
    {
      "cell_type": "markdown",
      "metadata": {},
      "source": [
        "# Scale the data"
      ]
    },
    {
      "cell_type": "code",
      "execution_count": 143,
      "metadata": {},
      "outputs": [],
      "source": [
        "scaler = MinMaxScaler(feature_range=(0, 1))\n",
        "scaled_train_data = scaler.fit_transform(train_data)\n",
        "scaled_test_data = scaler.transform(test_data)"
      ]
    },
    {
      "cell_type": "markdown",
      "metadata": {},
      "source": [
        "# Define the window size"
      ]
    },
    {
      "cell_type": "code",
      "execution_count": 144,
      "metadata": {},
      "outputs": [],
      "source": [
        "window_size = 10"
      ]
    },
    {
      "cell_type": "markdown",
      "metadata": {},
      "source": [
        "# Create input and output data for ANN"
      ]
    },
    {
      "cell_type": "code",
      "execution_count": 145,
      "metadata": {},
      "outputs": [],
      "source": [
        "X_train_ann = []\n",
        "y_train_ann = []\n",
        "X_test_ann = []\n",
        "y_test_ann = []\n",
        "\n",
        "for i in range(window_size, len(scaled_train_data)):\n",
        "    X_train_ann.append(scaled_train_data[i-window_size:i, 0])\n",
        "    y_train_ann.append(scaled_train_data[i, 0])\n",
        "\n",
        "for i in range(window_size, len(scaled_test_data)):\n",
        "    X_test_ann.append(scaled_test_data[i-window_size:i, 0])\n",
        "    y_test_ann.append(scaled_test_data[i, 0])\n",
        "\n",
        "X_train_ann, y_train_ann = np.array(X_train_ann), np.array(y_train_ann)\n",
        "X_test_ann, y_test_ann = np.array(X_test_ann), np.array(y_test_ann)"
      ]
    },
    {
      "cell_type": "markdown",
      "metadata": {},
      "source": [
        "# Reshape the input data for ANN"
      ]
    },
    {
      "cell_type": "code",
      "execution_count": 146,
      "metadata": {},
      "outputs": [],
      "source": [
        "X_train_ann = np.reshape(X_train_ann, (X_train_ann.shape[0], X_train_ann.shape[1], 1))\n",
        "X_test_ann = np.reshape(X_test_ann, (X_test_ann.shape[0], X_test_ann.shape[1], 1))"
      ]
    },
    {
      "cell_type": "markdown",
      "metadata": {},
      "source": [
        "# Create and train the ANN model"
      ]
    },
    {
      "cell_type": "code",
      "execution_count": 147,
      "metadata": {},
      "outputs": [
        {
          "name": "stdout",
          "output_type": "stream",
          "text": [
            "Epoch 1/100\n",
            "1986/1986 [==============================] - 4s 2ms/step - loss: 0.0068\n",
            "Epoch 2/100\n",
            "1986/1986 [==============================] - 3s 2ms/step - loss: 0.0014\n",
            "Epoch 3/100\n",
            "1986/1986 [==============================] - 3s 2ms/step - loss: 0.0015\n",
            "Epoch 4/100\n",
            "1986/1986 [==============================] - 3s 2ms/step - loss: 0.0015\n",
            "Epoch 4: early stopping\n"
          ]
        }
      ],
      "source": [
        "model_ann = Sequential()\n",
        "model_ann.add(Dense(32, activation='relu', input_shape=(window_size, 1)))\n",
        "model_ann.add(Dense(1))\n",
        "model_ann.compile(optimizer='adam', loss='mse')\n",
        "early_stop = EarlyStopping(monitor='loss', patience=2, verbose=1)\n",
        "history = model_ann.fit(X_train_ann, y_train_ann, epochs=100, batch_size=1, verbose=1, callbacks=[early_stop], shuffle=False)"
      ]
    },
    {
      "cell_type": "markdown",
      "metadata": {},
      "source": [
        "# Create input and output data for LSTM and GRU"
      ]
    },
    {
      "cell_type": "code",
      "execution_count": 148,
      "metadata": {},
      "outputs": [],
      "source": [
        "X_train_rnn = X_train_ann\n",
        "y_train_rnn = y_train_ann\n",
        "X_test_rnn = X_test_ann\n",
        "y_test_rnn = y_test_ann"
      ]
    },
    {
      "cell_type": "markdown",
      "metadata": {},
      "source": [
        "# Create and train the LSTM model"
      ]
    },
    {
      "cell_type": "code",
      "execution_count": 149,
      "metadata": {},
      "outputs": [
        {
          "name": "stdout",
          "output_type": "stream",
          "text": [
            "Epoch 1/100\n",
            "1986/1986 [==============================] - 8s 3ms/step - loss: 0.0036\n",
            "Epoch 2/100\n",
            "1986/1986 [==============================] - 7s 4ms/step - loss: 0.0012\n",
            "Epoch 3/100\n",
            "1986/1986 [==============================] - 7s 4ms/step - loss: 0.0013\n",
            "Epoch 4/100\n",
            "1986/1986 [==============================] - 7s 4ms/step - loss: 0.0013\n",
            "Epoch 4: early stopping\n"
          ]
        }
      ],
      "source": [
        "model_lstm = Sequential()\n",
        "model_lstm.add(LSTM(32, activation='relu', input_shape=(window_size, 1)))\n",
        "model_lstm.add(Dense(1))\n",
        "model_lstm.compile(optimizer='adam', loss='mse')\n",
        "early_stop = EarlyStopping(monitor='loss', patience=2, verbose=1)\n",
        "history = model_lstm.fit(X_train_rnn, y_train_rnn, epochs=100, batch_size=1, verbose=1, callbacks=[early_stop], shuffle=False)"
      ]
    },
    {
      "cell_type": "markdown",
      "metadata": {},
      "source": [
        "# Create and train the GRU model"
      ]
    },
    {
      "cell_type": "code",
      "execution_count": 150,
      "metadata": {},
      "outputs": [
        {
          "name": "stdout",
          "output_type": "stream",
          "text": [
            "Epoch 1/100\n",
            "1986/1986 [==============================] - 10s 4ms/step - loss: 0.0048\n",
            "Epoch 2/100\n",
            "1986/1986 [==============================] - 8s 4ms/step - loss: 8.2042e-04\n",
            "Epoch 3/100\n",
            "1986/1986 [==============================] - 8s 4ms/step - loss: 8.0727e-04\n",
            "Epoch 4/100\n",
            "1986/1986 [==============================] - 8s 4ms/step - loss: 8.0180e-04\n",
            "Epoch 5/100\n",
            "1986/1986 [==============================] - 8s 4ms/step - loss: 7.7628e-04\n",
            "Epoch 6/100\n",
            "1986/1986 [==============================] - 8s 4ms/step - loss: 7.1195e-04\n",
            "Epoch 7/100\n",
            "1986/1986 [==============================] - 8s 4ms/step - loss: 6.6877e-04\n",
            "Epoch 8/100\n",
            "1986/1986 [==============================] - 8s 4ms/step - loss: 6.2356e-04\n",
            "Epoch 9/100\n",
            "1986/1986 [==============================] - 8s 4ms/step - loss: 5.7889e-04\n",
            "Epoch 10/100\n",
            "1986/1986 [==============================] - 7s 4ms/step - loss: 5.2823e-04\n",
            "Epoch 11/100\n",
            "1986/1986 [==============================] - 7s 4ms/step - loss: 5.3863e-04\n",
            "Epoch 12/100\n",
            "1986/1986 [==============================] - 8s 4ms/step - loss: 5.2656e-04\n",
            "Epoch 13/100\n",
            "1986/1986 [==============================] - 8s 4ms/step - loss: 5.0955e-04\n",
            "Epoch 14/100\n",
            "1986/1986 [==============================] - 8s 4ms/step - loss: 4.8991e-04\n",
            "Epoch 15/100\n",
            "1986/1986 [==============================] - 7s 4ms/step - loss: 4.7097e-04\n",
            "Epoch 16/100\n",
            "1986/1986 [==============================] - 8s 4ms/step - loss: 4.5356e-04\n",
            "Epoch 17/100\n",
            "1986/1986 [==============================] - 7s 4ms/step - loss: 4.3481e-04\n",
            "Epoch 18/100\n",
            "1986/1986 [==============================] - 8s 4ms/step - loss: 4.1578e-04\n",
            "Epoch 19/100\n",
            "1986/1986 [==============================] - 8s 4ms/step - loss: 4.0343e-04\n",
            "Epoch 20/100\n",
            "1986/1986 [==============================] - 8s 4ms/step - loss: 3.8907e-04\n",
            "Epoch 21/100\n",
            "1986/1986 [==============================] - 8s 4ms/step - loss: 3.7837e-04\n",
            "Epoch 22/100\n",
            "1986/1986 [==============================] - 7s 4ms/step - loss: 3.7241e-04\n",
            "Epoch 23/100\n",
            "1986/1986 [==============================] - 8s 4ms/step - loss: 3.6893e-04\n",
            "Epoch 24/100\n",
            "1986/1986 [==============================] - 8s 4ms/step - loss: 3.6807e-04\n",
            "Epoch 25/100\n",
            "1986/1986 [==============================] - 8s 4ms/step - loss: 3.6415e-04\n",
            "Epoch 26/100\n",
            "1986/1986 [==============================] - 7s 4ms/step - loss: 3.6423e-04\n",
            "Epoch 27/100\n",
            "1986/1986 [==============================] - 8s 4ms/step - loss: 3.6443e-04\n",
            "Epoch 27: early stopping\n"
          ]
        }
      ],
      "source": [
        "model_gru = Sequential()\n",
        "model_gru.add(GRU(32, activation='relu', input_shape=(window_size, 1)))\n",
        "model_gru.add(Dense(1))\n",
        "model_gru.compile(optimizer='adam', loss='mse')\n",
        "early_stop = EarlyStopping(monitor='loss', patience=2, verbose=1)\n",
        "history = model_gru.fit(X_train_rnn, y_train_rnn, epochs=100, batch_size=1, verbose=1, callbacks=[early_stop], shuffle=False)"
      ]
    },
    {
      "cell_type": "markdown",
      "metadata": {},
      "source": [
        "# Make predictions\n"
      ]
    },
    {
      "cell_type": "code",
      "execution_count": 151,
      "metadata": {},
      "outputs": [
        {
          "name": "stdout",
          "output_type": "stream",
          "text": [
            "63/63 [==============================] - 0s 1ms/step\n",
            "16/16 [==============================] - 0s 1ms/step\n",
            "63/63 [==============================] - 0s 2ms/step\n",
            "16/16 [==============================] - 0s 2ms/step\n",
            "63/63 [==============================] - 0s 3ms/step\n",
            "16/16 [==============================] - 0s 3ms/step\n"
          ]
        }
      ],
      "source": [
        "train_predictions_ann = model_ann.predict(X_train_ann)\n",
        "test_predictions_ann = model_ann.predict(X_test_ann)\n",
        "\n",
        "train_predictions_lstm = model_lstm.predict(X_train_rnn)\n",
        "test_predictions_lstm = model_lstm.predict(X_test_rnn)\n",
        "\n",
        "train_predictions_gru = model_gru.predict(X_train_rnn)\n",
        "test_predictions_gru = model_gru.predict(X_test_rnn)"
      ]
    },
    {
      "cell_type": "code",
      "execution_count": 152,
      "metadata": {},
      "outputs": [
        {
          "name": "stdout",
          "output_type": "stream",
          "text": [
            "1986\n",
            "489\n",
            "1986\n",
            "489\n"
          ]
        }
      ],
      "source": [
        "print(train_predictions_lstm.size)\n",
        "print(test_predictions_lstm.size)\n",
        "print(train_predictions_gru.size)\n",
        "print(test_predictions_gru.size )"
      ]
    },
    {
      "cell_type": "markdown",
      "metadata": {},
      "source": [
        "# Inverse scale the predictions"
      ]
    },
    {
      "cell_type": "code",
      "execution_count": 153,
      "metadata": {},
      "outputs": [],
      "source": [
        "# Assuming the scaler object was initially fit on the original dataset with 6 features\n",
        "scaler = MinMaxScaler(feature_range=(0, 1))\n",
        "scaler.fit(df) # Fit the scaler on the original dataset\n",
        "\n",
        "# Reshape the array to have the same number of features as the scaler object\n",
        "train_predictions_ann = train_predictions_ann.reshape(-1, 6)\n",
        "test_predictions_ann = test_predictions_ann.reshape(-1, 6)\n",
        "n1 = train_predictions_lstm.size // 6  # Calculate the value of n\n",
        "n2 = test_predictions_lstm.size // 6  # Calculate the value of n\n",
        "train_predictions_lstm = train_predictions_lstm[:n1*6].reshape(n1, 6)\n",
        "test_predictions_lstm = test_predictions_lstm[:n2*6].reshape(n2, 6)\n",
        "n3 = train_predictions_gru.size // 6  # Calculate the value of n\n",
        "n4 = test_predictions_gru.size // 6  # Calculate the value of n\n",
        "train_predictions_gru= train_predictions_gru[:n3*6].reshape(n3, 6)\n",
        "test_predictions_gru = test_predictions_gru[:n4*6].reshape(n4, 6)\n",
        "\n"
      ]
    },
    {
      "cell_type": "code",
      "execution_count": 154,
      "metadata": {},
      "outputs": [],
      "source": [
        "train_predictions_ann = scaler.inverse_transform(train_predictions_ann)\n",
        "test_predictions_ann = scaler.inverse_transform(test_predictions_ann)\n",
        "\n",
        "train_predictions_lstm = scaler.inverse_transform(train_predictions_lstm)\n",
        "test_predictions_lstm = scaler.inverse_transform(test_predictions_lstm)\n",
        "\n"
      ]
    },
    {
      "cell_type": "code",
      "execution_count": 155,
      "metadata": {},
      "outputs": [],
      "source": [
        "train_predictions_gru = scaler.inverse_transform(train_predictions_gru)\n",
        "test_predictions_gru = scaler.inverse_transform(test_predictions_gru)"
      ]
    },
    {
      "cell_type": "markdown",
      "metadata": {},
      "source": [
        "# Plot the results"
      ]
    },
    {
      "cell_type": "code",
      "execution_count": 156,
      "metadata": {},
      "outputs": [
        {
          "name": "stdout",
          "output_type": "stream",
          "text": [
            "Index(['Open', 'High', 'Low', 'Close', 'Adj Close', 'Volume'], dtype='object')\n"
          ]
        }
      ],
      "source": [
        "print(train_data.columns)"
      ]
    },
    {
      "cell_type": "code",
      "execution_count": 157,
      "metadata": {},
      "outputs": [
        {
          "name": "stdout",
          "output_type": "stream",
          "text": [
            "(1996, 6)\n",
            "(499, 6)\n"
          ]
        }
      ],
      "source": [
        "print(train_data.shape)\n",
        "print(test_data.shape)"
      ]
    },
    {
      "cell_type": "code",
      "execution_count": 158,
      "metadata": {},
      "outputs": [
        {
          "data": {
            "text/plain": [
              "[<matplotlib.lines.Line2D at 0x27bb456e210>]"
            ]
          },
          "execution_count": 158,
          "metadata": {},
          "output_type": "execute_result"
        },
        {
          "data": {
            "image/png": "[encoded data removed]",
            "text/plain": [
              "<Figure size 1200x600 with 1 Axes>"
            ]
          },
          "metadata": {},
          "output_type": "display_data"
        }
      ],
      "source": [
        "plt.figure(figsize=(12, 6))\n",
        "plt.plot(df.index[:train_size], train_data['Adj Close'], label='Training Data')\n",
        "plt.plot(df.index[train_size+window_size:train_size+window_size+len(test_data)-10], test_data['Adj Close'][:len(test_data)-10], label='Test Data')"
      ]
    },
    {
      "cell_type": "code",
      "execution_count": 126,
      "metadata": {},
      "outputs": [
        {
          "ename": "ValueError",
          "evalue": "x and y must have same first dimension, but have shapes (489,) and (815, 6)",
          "output_type": "error",
          "traceback": [
            "\u001b[1;31m---------------------------------------------------------------------------\u001b[0m",
            "\u001b[1;31mValueError\u001b[0m                                Traceback (most recent call last)",
            "Cell \u001b[1;32mIn[126], line 2\u001b[0m\n\u001b[0;32m      1\u001b[0m plt\u001b[38;5;241m.\u001b[39mplot(df\u001b[38;5;241m.\u001b[39mindex[window_size:window_size\u001b[38;5;241m+\u001b[39mtrain_size], train_predictions_ann[:train_size], label\u001b[38;5;241m=\u001b[39m\u001b[38;5;124m'\u001b[39m\u001b[38;5;124mANN Predictions\u001b[39m\u001b[38;5;124m'\u001b[39m)\n\u001b[1;32m----> 2\u001b[0m \u001b[43mplt\u001b[49m\u001b[38;5;241;43m.\u001b[39;49m\u001b[43mplot\u001b[49m\u001b[43m(\u001b[49m\u001b[43mdf\u001b[49m\u001b[38;5;241;43m.\u001b[39;49m\u001b[43mindex\u001b[49m\u001b[43m[\u001b[49m\u001b[43mwindow_size\u001b[49m\u001b[38;5;241;43m+\u001b[39;49m\u001b[43mtrain_size\u001b[49m\u001b[43m:\u001b[49m\u001b[43mwindow_size\u001b[49m\u001b[38;5;241;43m+\u001b[39;49m\u001b[43mtrain_size\u001b[49m\u001b[38;5;241;43m+\u001b[39;49m\u001b[43mtest_size\u001b[49m\u001b[43m]\u001b[49m\u001b[43m,\u001b[49m\u001b[43m \u001b[49m\u001b[43mtest_predictions_ann\u001b[49m\u001b[43m[\u001b[49m\u001b[43m:\u001b[49m\u001b[43mtest_size\u001b[49m\u001b[43m]\u001b[49m\u001b[43m,\u001b[49m\u001b[43m \u001b[49m\u001b[43mlabel\u001b[49m\u001b[38;5;241;43m=\u001b[39;49m\u001b[38;5;124;43m'\u001b[39;49m\u001b[38;5;124;43mANN Test Predictions\u001b[39;49m\u001b[38;5;124;43m'\u001b[39;49m\u001b[43m)\u001b[49m\n",
            "File \u001b[1;32m~\\AppData\\Roaming\\Python\\Python311\\site-packages\\matplotlib\\pyplot.py:3575\u001b[0m, in \u001b[0;36mplot\u001b[1;34m(scalex, scaley, data, *args, **kwargs)\u001b[0m\n\u001b[0;32m   3567\u001b[0m \u001b[38;5;129m@_copy_docstring_and_deprecators\u001b[39m(Axes\u001b[38;5;241m.\u001b[39mplot)\n\u001b[0;32m   3568\u001b[0m \u001b[38;5;28;01mdef\u001b[39;00m \u001b[38;5;21mplot\u001b[39m(\n\u001b[0;32m   3569\u001b[0m     \u001b[38;5;241m*\u001b[39margs: \u001b[38;5;28mfloat\u001b[39m \u001b[38;5;241m|\u001b[39m ArrayLike \u001b[38;5;241m|\u001b[39m \u001b[38;5;28mstr\u001b[39m,\n\u001b[1;32m   (...)\u001b[0m\n\u001b[0;32m   3573\u001b[0m     \u001b[38;5;241m*\u001b[39m\u001b[38;5;241m*\u001b[39mkwargs,\n\u001b[0;32m   3574\u001b[0m ) \u001b[38;5;241m-\u001b[39m\u001b[38;5;241m>\u001b[39m \u001b[38;5;28mlist\u001b[39m[Line2D]:\n\u001b[1;32m-> 3575\u001b[0m     \u001b[38;5;28;01mreturn\u001b[39;00m \u001b[43mgca\u001b[49m\u001b[43m(\u001b[49m\u001b[43m)\u001b[49m\u001b[38;5;241;43m.\u001b[39;49m\u001b[43mplot\u001b[49m\u001b[43m(\u001b[49m\n\u001b[0;32m   3576\u001b[0m \u001b[43m        \u001b[49m\u001b[38;5;241;43m*\u001b[39;49m\u001b[43margs\u001b[49m\u001b[43m,\u001b[49m\n\u001b[0;32m   3577\u001b[0m \u001b[43m        \u001b[49m\u001b[43mscalex\u001b[49m\u001b[38;5;241;43m=\u001b[39;49m\u001b[43mscalex\u001b[49m\u001b[43m,\u001b[49m\n\u001b[0;32m   3578\u001b[0m \u001b[43m        \u001b[49m\u001b[43mscaley\u001b[49m\u001b[38;5;241;43m=\u001b[39;49m\u001b[43mscaley\u001b[49m\u001b[43m,\u001b[49m\n\u001b[0;32m   3579\u001b[0m \u001b[43m        \u001b[49m\u001b[38;5;241;43m*\u001b[39;49m\u001b[38;5;241;43m*\u001b[39;49m\u001b[43m(\u001b[49m\u001b[43m{\u001b[49m\u001b[38;5;124;43m\"\u001b[39;49m\u001b[38;5;124;43mdata\u001b[39;49m\u001b[38;5;124;43m\"\u001b[39;49m\u001b[43m:\u001b[49m\u001b[43m \u001b[49m\u001b[43mdata\u001b[49m\u001b[43m}\u001b[49m\u001b[43m \u001b[49m\u001b[38;5;28;43;01mif\u001b[39;49;00m\u001b[43m \u001b[49m\u001b[43mdata\u001b[49m\u001b[43m \u001b[49m\u001b[38;5;129;43;01mis\u001b[39;49;00m\u001b[43m \u001b[49m\u001b[38;5;129;43;01mnot\u001b[39;49;00m\u001b[43m \u001b[49m\u001b[38;5;28;43;01mNone\u001b[39;49;00m\u001b[43m \u001b[49m\u001b[38;5;28;43;01melse\u001b[39;49;00m\u001b[43m \u001b[49m\u001b[43m{\u001b[49m\u001b[43m}\u001b[49m\u001b[43m)\u001b[49m\u001b[43m,\u001b[49m\n\u001b[0;32m   3580\u001b[0m \u001b[43m        \u001b[49m\u001b[38;5;241;43m*\u001b[39;49m\u001b[38;5;241;43m*\u001b[39;49m\u001b[43mkwargs\u001b[49m\u001b[43m,\u001b[49m\n\u001b[0;32m   3581\u001b[0m \u001b[43m    \u001b[49m\u001b[43m)\u001b[49m\n",
            "File \u001b[1;32m~\\AppData\\Roaming\\Python\\Python311\\site-packages\\matplotlib\\axes\\_axes.py:1721\u001b[0m, in \u001b[0;36mAxes.plot\u001b[1;34m(self, scalex, scaley, data, *args, **kwargs)\u001b[0m\n\u001b[0;32m   1478\u001b[0m \u001b[38;5;250m\u001b[39m\u001b[38;5;124;03m\"\"\"\u001b[39;00m\n\u001b[0;32m   1479\u001b[0m \u001b[38;5;124;03mPlot y versus x as lines and/or markers.\u001b[39;00m\n\u001b[0;32m   1480\u001b[0m \n\u001b[1;32m   (...)\u001b[0m\n\u001b[0;32m   1718\u001b[0m \u001b[38;5;124;03m(``'green'``) or hex strings (``'#008000'``).\u001b[39;00m\n\u001b[0;32m   1719\u001b[0m \u001b[38;5;124;03m\"\"\"\u001b[39;00m\n\u001b[0;32m   1720\u001b[0m kwargs \u001b[38;5;241m=\u001b[39m cbook\u001b[38;5;241m.\u001b[39mnormalize_kwargs(kwargs, mlines\u001b[38;5;241m.\u001b[39mLine2D)\n\u001b[1;32m-> 1721\u001b[0m lines \u001b[38;5;241m=\u001b[39m [\u001b[38;5;241m*\u001b[39m\u001b[38;5;28mself\u001b[39m\u001b[38;5;241m.\u001b[39m_get_lines(\u001b[38;5;28mself\u001b[39m, \u001b[38;5;241m*\u001b[39margs, data\u001b[38;5;241m=\u001b[39mdata, \u001b[38;5;241m*\u001b[39m\u001b[38;5;241m*\u001b[39mkwargs)]\n\u001b[0;32m   1722\u001b[0m \u001b[38;5;28;01mfor\u001b[39;00m line \u001b[38;5;129;01min\u001b[39;00m lines:\n\u001b[0;32m   1723\u001b[0m     \u001b[38;5;28mself\u001b[39m\u001b[38;5;241m.\u001b[39madd_line(line)\n",
            "File \u001b[1;32m~\\AppData\\Roaming\\Python\\Python311\\site-packages\\matplotlib\\axes\\_base.py:303\u001b[0m, in \u001b[0;36m_process_plot_var_args.__call__\u001b[1;34m(self, axes, data, *args, **kwargs)\u001b[0m\n\u001b[0;32m    301\u001b[0m     this \u001b[38;5;241m+\u001b[39m\u001b[38;5;241m=\u001b[39m args[\u001b[38;5;241m0\u001b[39m],\n\u001b[0;32m    302\u001b[0m     args \u001b[38;5;241m=\u001b[39m args[\u001b[38;5;241m1\u001b[39m:]\n\u001b[1;32m--> 303\u001b[0m \u001b[38;5;28;01myield from\u001b[39;00m \u001b[38;5;28;43mself\u001b[39;49m\u001b[38;5;241;43m.\u001b[39;49m\u001b[43m_plot_args\u001b[49m\u001b[43m(\u001b[49m\n\u001b[0;32m    304\u001b[0m \u001b[43m    \u001b[49m\u001b[43maxes\u001b[49m\u001b[43m,\u001b[49m\u001b[43m \u001b[49m\u001b[43mthis\u001b[49m\u001b[43m,\u001b[49m\u001b[43m \u001b[49m\u001b[43mkwargs\u001b[49m\u001b[43m,\u001b[49m\u001b[43m \u001b[49m\u001b[43mambiguous_fmt_datakey\u001b[49m\u001b[38;5;241;43m=\u001b[39;49m\u001b[43mambiguous_fmt_datakey\u001b[49m\u001b[43m)\u001b[49m\n",
            "File \u001b[1;32m~\\AppData\\Roaming\\Python\\Python311\\site-packages\\matplotlib\\axes\\_base.py:499\u001b[0m, in \u001b[0;36m_process_plot_var_args._plot_args\u001b[1;34m(self, axes, tup, kwargs, return_kwargs, ambiguous_fmt_datakey)\u001b[0m\n\u001b[0;32m    496\u001b[0m     axes\u001b[38;5;241m.\u001b[39myaxis\u001b[38;5;241m.\u001b[39mupdate_units(y)\n\u001b[0;32m    498\u001b[0m \u001b[38;5;28;01mif\u001b[39;00m x\u001b[38;5;241m.\u001b[39mshape[\u001b[38;5;241m0\u001b[39m] \u001b[38;5;241m!=\u001b[39m y\u001b[38;5;241m.\u001b[39mshape[\u001b[38;5;241m0\u001b[39m]:\n\u001b[1;32m--> 499\u001b[0m     \u001b[38;5;28;01mraise\u001b[39;00m \u001b[38;5;167;01mValueError\u001b[39;00m(\u001b[38;5;124mf\u001b[39m\u001b[38;5;124m\"\u001b[39m\u001b[38;5;124mx and y must have same first dimension, but \u001b[39m\u001b[38;5;124m\"\u001b[39m\n\u001b[0;32m    500\u001b[0m                      \u001b[38;5;124mf\u001b[39m\u001b[38;5;124m\"\u001b[39m\u001b[38;5;124mhave shapes \u001b[39m\u001b[38;5;132;01m{\u001b[39;00mx\u001b[38;5;241m.\u001b[39mshape\u001b[38;5;132;01m}\u001b[39;00m\u001b[38;5;124m and \u001b[39m\u001b[38;5;132;01m{\u001b[39;00my\u001b[38;5;241m.\u001b[39mshape\u001b[38;5;132;01m}\u001b[39;00m\u001b[38;5;124m\"\u001b[39m)\n\u001b[0;32m    501\u001b[0m \u001b[38;5;28;01mif\u001b[39;00m x\u001b[38;5;241m.\u001b[39mndim \u001b[38;5;241m>\u001b[39m \u001b[38;5;241m2\u001b[39m \u001b[38;5;129;01mor\u001b[39;00m y\u001b[38;5;241m.\u001b[39mndim \u001b[38;5;241m>\u001b[39m \u001b[38;5;241m2\u001b[39m:\n\u001b[0;32m    502\u001b[0m     \u001b[38;5;28;01mraise\u001b[39;00m \u001b[38;5;167;01mValueError\u001b[39;00m(\u001b[38;5;124mf\u001b[39m\u001b[38;5;124m\"\u001b[39m\u001b[38;5;124mx and y can be no greater than 2D, but have \u001b[39m\u001b[38;5;124m\"\u001b[39m\n\u001b[0;32m    503\u001b[0m                      \u001b[38;5;124mf\u001b[39m\u001b[38;5;124m\"\u001b[39m\u001b[38;5;124mshapes \u001b[39m\u001b[38;5;132;01m{\u001b[39;00mx\u001b[38;5;241m.\u001b[39mshape\u001b[38;5;132;01m}\u001b[39;00m\u001b[38;5;124m and \u001b[39m\u001b[38;5;132;01m{\u001b[39;00my\u001b[38;5;241m.\u001b[39mshape\u001b[38;5;132;01m}\u001b[39;00m\u001b[38;5;124m\"\u001b[39m)\n",
            "\u001b[1;31mValueError\u001b[0m: x and y must have same first dimension, but have shapes (489,) and (815, 6)"
          ]
        },
        {
          "data": {
            "image/png": "[encoded data removed]",
            "text/plain": [
              "<Figure size 640x480 with 1 Axes>"
            ]
          },
          "metadata": {},
          "output_type": "display_data"
        }
      ],
      "source": [
        "plt.plot(df.index[window_size:window_size+train_size], train_predictions_ann[:train_size], label='ANN Predictions')\n",
        "plt.plot(df.index[window_size+train_size:window_size+train_size+test_size], test_predictions_ann[:test_size], label='ANN Test Predictions')"
      ]
    },
    {
      "cell_type": "code",
      "execution_count": 104,
      "metadata": {},
      "outputs": [
        {
          "ename": "ValueError",
          "evalue": "x and y must have same first dimension, but have shapes (489,) and (499,)",
          "output_type": "error",
          "traceback": [
            "\u001b[1;31m---------------------------------------------------------------------------\u001b[0m",
            "\u001b[1;31mValueError\u001b[0m                                Traceback (most recent call last)",
            "Cell \u001b[1;32mIn[104], line 3\u001b[0m\n\u001b[0;32m      1\u001b[0m plt\u001b[38;5;241m.\u001b[39mfigure(figsize\u001b[38;5;241m=\u001b[39m(\u001b[38;5;241m12\u001b[39m, \u001b[38;5;241m6\u001b[39m))\n\u001b[0;32m      2\u001b[0m plt\u001b[38;5;241m.\u001b[39mplot(df\u001b[38;5;241m.\u001b[39mindex[:train_size], train_data[\u001b[38;5;124m'\u001b[39m\u001b[38;5;124mAdj Close\u001b[39m\u001b[38;5;124m'\u001b[39m], label\u001b[38;5;241m=\u001b[39m\u001b[38;5;124m'\u001b[39m\u001b[38;5;124mTraining Data\u001b[39m\u001b[38;5;124m'\u001b[39m)\n\u001b[1;32m----> 3\u001b[0m \u001b[43mplt\u001b[49m\u001b[38;5;241;43m.\u001b[39;49m\u001b[43mplot\u001b[49m\u001b[43m(\u001b[49m\u001b[43mdf\u001b[49m\u001b[38;5;241;43m.\u001b[39;49m\u001b[43mindex\u001b[49m\u001b[43m[\u001b[49m\u001b[43mtrain_size\u001b[49m\u001b[38;5;241;43m+\u001b[39;49m\u001b[43mwindow_size\u001b[49m\u001b[43m:\u001b[49m\u001b[43mtrain_size\u001b[49m\u001b[38;5;241;43m+\u001b[39;49m\u001b[43mwindow_size\u001b[49m\u001b[38;5;241;43m+\u001b[39;49m\u001b[38;5;28;43mlen\u001b[39;49m\u001b[43m(\u001b[49m\u001b[43mtest_data\u001b[49m\u001b[43m[\u001b[49m\u001b[43m:\u001b[49m\u001b[43mtrain_size\u001b[49m\u001b[43m]\u001b[49m\u001b[43m)\u001b[49m\u001b[43m]\u001b[49m\u001b[43m,\u001b[49m\u001b[43m \u001b[49m\u001b[43mtest_data\u001b[49m\u001b[43m[\u001b[49m\u001b[43m:\u001b[49m\u001b[43mtrain_size\u001b[49m\u001b[43m]\u001b[49m\u001b[43m[\u001b[49m\u001b[38;5;124;43m'\u001b[39;49m\u001b[38;5;124;43mAdj Close\u001b[39;49m\u001b[38;5;124;43m'\u001b[39;49m\u001b[43m]\u001b[49m\u001b[43m,\u001b[49m\u001b[43m \u001b[49m\u001b[43mlabel\u001b[49m\u001b[38;5;241;43m=\u001b[39;49m\u001b[38;5;124;43m'\u001b[39;49m\u001b[38;5;124;43mTest Data\u001b[39;49m\u001b[38;5;124;43m'\u001b[39;49m\u001b[43m)\u001b[49m\n\u001b[0;32m      4\u001b[0m plt\u001b[38;5;241m.\u001b[39mplot(df\u001b[38;5;241m.\u001b[39mindex[window_size:train_size], train_predictions_ann, label\u001b[38;5;241m=\u001b[39m\u001b[38;5;124m'\u001b[39m\u001b[38;5;124mANN Predictions\u001b[39m\u001b[38;5;124m'\u001b[39m)\n\u001b[0;32m      5\u001b[0m plt\u001b[38;5;241m.\u001b[39mplot(df\u001b[38;5;241m.\u001b[39mindex[train_size\u001b[38;5;241m+\u001b[39mwindow_size:train_size\u001b[38;5;241m+\u001b[39mwindow_size\u001b[38;5;241m+\u001b[39m\u001b[38;5;28mlen\u001b[39m(test_predictions_ann)], test_predictions_ann, label\u001b[38;5;241m=\u001b[39m\u001b[38;5;124m'\u001b[39m\u001b[38;5;124mANN Test Predictions\u001b[39m\u001b[38;5;124m'\u001b[39m)\n",
            "File \u001b[1;32m~\\AppData\\Roaming\\Python\\Python311\\site-packages\\matplotlib\\pyplot.py:3575\u001b[0m, in \u001b[0;36mplot\u001b[1;34m(scalex, scaley, data, *args, **kwargs)\u001b[0m\n\u001b[0;32m   3567\u001b[0m \u001b[38;5;129m@_copy_docstring_and_deprecators\u001b[39m(Axes\u001b[38;5;241m.\u001b[39mplot)\n\u001b[0;32m   3568\u001b[0m \u001b[38;5;28;01mdef\u001b[39;00m \u001b[38;5;21mplot\u001b[39m(\n\u001b[0;32m   3569\u001b[0m     \u001b[38;5;241m*\u001b[39margs: \u001b[38;5;28mfloat\u001b[39m \u001b[38;5;241m|\u001b[39m ArrayLike \u001b[38;5;241m|\u001b[39m \u001b[38;5;28mstr\u001b[39m,\n\u001b[1;32m   (...)\u001b[0m\n\u001b[0;32m   3573\u001b[0m     \u001b[38;5;241m*\u001b[39m\u001b[38;5;241m*\u001b[39mkwargs,\n\u001b[0;32m   3574\u001b[0m ) \u001b[38;5;241m-\u001b[39m\u001b[38;5;241m>\u001b[39m \u001b[38;5;28mlist\u001b[39m[Line2D]:\n\u001b[1;32m-> 3575\u001b[0m     \u001b[38;5;28;01mreturn\u001b[39;00m \u001b[43mgca\u001b[49m\u001b[43m(\u001b[49m\u001b[43m)\u001b[49m\u001b[38;5;241;43m.\u001b[39;49m\u001b[43mplot\u001b[49m\u001b[43m(\u001b[49m\n\u001b[0;32m   3576\u001b[0m \u001b[43m        \u001b[49m\u001b[38;5;241;43m*\u001b[39;49m\u001b[43margs\u001b[49m\u001b[43m,\u001b[49m\n\u001b[0;32m   3577\u001b[0m \u001b[43m        \u001b[49m\u001b[43mscalex\u001b[49m\u001b[38;5;241;43m=\u001b[39;49m\u001b[43mscalex\u001b[49m\u001b[43m,\u001b[49m\n\u001b[0;32m   3578\u001b[0m \u001b[43m        \u001b[49m\u001b[43mscaley\u001b[49m\u001b[38;5;241;43m=\u001b[39;49m\u001b[43mscaley\u001b[49m\u001b[43m,\u001b[49m\n\u001b[0;32m   3579\u001b[0m \u001b[43m        \u001b[49m\u001b[38;5;241;43m*\u001b[39;49m\u001b[38;5;241;43m*\u001b[39;49m\u001b[43m(\u001b[49m\u001b[43m{\u001b[49m\u001b[38;5;124;43m\"\u001b[39;49m\u001b[38;5;124;43mdata\u001b[39;49m\u001b[38;5;124;43m\"\u001b[39;49m\u001b[43m:\u001b[49m\u001b[43m \u001b[49m\u001b[43mdata\u001b[49m\u001b[43m}\u001b[49m\u001b[43m \u001b[49m\u001b[38;5;28;43;01mif\u001b[39;49;00m\u001b[43m \u001b[49m\u001b[43mdata\u001b[49m\u001b[43m \u001b[49m\u001b[38;5;129;43;01mis\u001b[39;49;00m\u001b[43m \u001b[49m\u001b[38;5;129;43;01mnot\u001b[39;49;00m\u001b[43m \u001b[49m\u001b[38;5;28;43;01mNone\u001b[39;49;00m\u001b[43m \u001b[49m\u001b[38;5;28;43;01melse\u001b[39;49;00m\u001b[43m \u001b[49m\u001b[43m{\u001b[49m\u001b[43m}\u001b[49m\u001b[43m)\u001b[49m\u001b[43m,\u001b[49m\n\u001b[0;32m   3580\u001b[0m \u001b[43m        \u001b[49m\u001b[38;5;241;43m*\u001b[39;49m\u001b[38;5;241;43m*\u001b[39;49m\u001b[43mkwargs\u001b[49m\u001b[43m,\u001b[49m\n\u001b[0;32m   3581\u001b[0m \u001b[43m    \u001b[49m\u001b[43m)\u001b[49m\n",
            "File \u001b[1;32m~\\AppData\\Roaming\\Python\\Python311\\site-packages\\matplotlib\\axes\\_axes.py:1721\u001b[0m, in \u001b[0;36mAxes.plot\u001b[1;34m(self, scalex, scaley, data, *args, **kwargs)\u001b[0m\n\u001b[0;32m   1478\u001b[0m \u001b[38;5;250m\u001b[39m\u001b[38;5;124;03m\"\"\"\u001b[39;00m\n\u001b[0;32m   1479\u001b[0m \u001b[38;5;124;03mPlot y versus x as lines and/or markers.\u001b[39;00m\n\u001b[0;32m   1480\u001b[0m \n\u001b[1;32m   (...)\u001b[0m\n\u001b[0;32m   1718\u001b[0m \u001b[38;5;124;03m(``'green'``) or hex strings (``'#008000'``).\u001b[39;00m\n\u001b[0;32m   1719\u001b[0m \u001b[38;5;124;03m\"\"\"\u001b[39;00m\n\u001b[0;32m   1720\u001b[0m kwargs \u001b[38;5;241m=\u001b[39m cbook\u001b[38;5;241m.\u001b[39mnormalize_kwargs(kwargs, mlines\u001b[38;5;241m.\u001b[39mLine2D)\n\u001b[1;32m-> 1721\u001b[0m lines \u001b[38;5;241m=\u001b[39m [\u001b[38;5;241m*\u001b[39m\u001b[38;5;28mself\u001b[39m\u001b[38;5;241m.\u001b[39m_get_lines(\u001b[38;5;28mself\u001b[39m, \u001b[38;5;241m*\u001b[39margs, data\u001b[38;5;241m=\u001b[39mdata, \u001b[38;5;241m*\u001b[39m\u001b[38;5;241m*\u001b[39mkwargs)]\n\u001b[0;32m   1722\u001b[0m \u001b[38;5;28;01mfor\u001b[39;00m line \u001b[38;5;129;01min\u001b[39;00m lines:\n\u001b[0;32m   1723\u001b[0m     \u001b[38;5;28mself\u001b[39m\u001b[38;5;241m.\u001b[39madd_line(line)\n",
            "File \u001b[1;32m~\\AppData\\Roaming\\Python\\Python311\\site-packages\\matplotlib\\axes\\_base.py:303\u001b[0m, in \u001b[0;36m_process_plot_var_args.__call__\u001b[1;34m(self, axes, data, *args, **kwargs)\u001b[0m\n\u001b[0;32m    301\u001b[0m     this \u001b[38;5;241m+\u001b[39m\u001b[38;5;241m=\u001b[39m args[\u001b[38;5;241m0\u001b[39m],\n\u001b[0;32m    302\u001b[0m     args \u001b[38;5;241m=\u001b[39m args[\u001b[38;5;241m1\u001b[39m:]\n\u001b[1;32m--> 303\u001b[0m \u001b[38;5;28;01myield from\u001b[39;00m \u001b[38;5;28;43mself\u001b[39;49m\u001b[38;5;241;43m.\u001b[39;49m\u001b[43m_plot_args\u001b[49m\u001b[43m(\u001b[49m\n\u001b[0;32m    304\u001b[0m \u001b[43m    \u001b[49m\u001b[43maxes\u001b[49m\u001b[43m,\u001b[49m\u001b[43m \u001b[49m\u001b[43mthis\u001b[49m\u001b[43m,\u001b[49m\u001b[43m \u001b[49m\u001b[43mkwargs\u001b[49m\u001b[43m,\u001b[49m\u001b[43m \u001b[49m\u001b[43mambiguous_fmt_datakey\u001b[49m\u001b[38;5;241;43m=\u001b[39;49m\u001b[43mambiguous_fmt_datakey\u001b[49m\u001b[43m)\u001b[49m\n",
            "File \u001b[1;32m~\\AppData\\Roaming\\Python\\Python311\\site-packages\\matplotlib\\axes\\_base.py:499\u001b[0m, in \u001b[0;36m_process_plot_var_args._plot_args\u001b[1;34m(self, axes, tup, kwargs, return_kwargs, ambiguous_fmt_datakey)\u001b[0m\n\u001b[0;32m    496\u001b[0m     axes\u001b[38;5;241m.\u001b[39myaxis\u001b[38;5;241m.\u001b[39mupdate_units(y)\n\u001b[0;32m    498\u001b[0m \u001b[38;5;28;01mif\u001b[39;00m x\u001b[38;5;241m.\u001b[39mshape[\u001b[38;5;241m0\u001b[39m] \u001b[38;5;241m!=\u001b[39m y\u001b[38;5;241m.\u001b[39mshape[\u001b[38;5;241m0\u001b[39m]:\n\u001b[1;32m--> 499\u001b[0m     \u001b[38;5;28;01mraise\u001b[39;00m \u001b[38;5;167;01mValueError\u001b[39;00m(\u001b[38;5;124mf\u001b[39m\u001b[38;5;124m\"\u001b[39m\u001b[38;5;124mx and y must have same first dimension, but \u001b[39m\u001b[38;5;124m\"\u001b[39m\n\u001b[0;32m    500\u001b[0m                      \u001b[38;5;124mf\u001b[39m\u001b[38;5;124m\"\u001b[39m\u001b[38;5;124mhave shapes \u001b[39m\u001b[38;5;132;01m{\u001b[39;00mx\u001b[38;5;241m.\u001b[39mshape\u001b[38;5;132;01m}\u001b[39;00m\u001b[38;5;124m and \u001b[39m\u001b[38;5;132;01m{\u001b[39;00my\u001b[38;5;241m.\u001b[39mshape\u001b[38;5;132;01m}\u001b[39;00m\u001b[38;5;124m\"\u001b[39m)\n\u001b[0;32m    501\u001b[0m \u001b[38;5;28;01mif\u001b[39;00m x\u001b[38;5;241m.\u001b[39mndim \u001b[38;5;241m>\u001b[39m \u001b[38;5;241m2\u001b[39m \u001b[38;5;129;01mor\u001b[39;00m y\u001b[38;5;241m.\u001b[39mndim \u001b[38;5;241m>\u001b[39m \u001b[38;5;241m2\u001b[39m:\n\u001b[0;32m    502\u001b[0m     \u001b[38;5;28;01mraise\u001b[39;00m \u001b[38;5;167;01mValueError\u001b[39;00m(\u001b[38;5;124mf\u001b[39m\u001b[38;5;124m\"\u001b[39m\u001b[38;5;124mx and y can be no greater than 2D, but have \u001b[39m\u001b[38;5;124m\"\u001b[39m\n\u001b[0;32m    503\u001b[0m                      \u001b[38;5;124mf\u001b[39m\u001b[38;5;124m\"\u001b[39m\u001b[38;5;124mshapes \u001b[39m\u001b[38;5;132;01m{\u001b[39;00mx\u001b[38;5;241m.\u001b[39mshape\u001b[38;5;132;01m}\u001b[39;00m\u001b[38;5;124m and \u001b[39m\u001b[38;5;132;01m{\u001b[39;00my\u001b[38;5;241m.\u001b[39mshape\u001b[38;5;132;01m}\u001b[39;00m\u001b[38;5;124m\"\u001b[39m)\n",
            "\u001b[1;31mValueError\u001b[0m: x and y must have same first dimension, but have shapes (489,) and (499,)"
          ]
        },
        {
          "data": {
            "image/png": "[encoded data removed]",
            "text/plain": [
              "<Figure size 1200x600 with 1 Axes>"
            ]
          },
          "metadata": {},
          "output_type": "display_data"
        }
      ],
      "source": [
        "plt.figure(figsize=(12, 6))\n",
        "plt.plot(df.index[:train_size], train_data['Adj Close'], label='Training Data')\n",
        "plt.plot(df.index[train_size+window_size:train_size+window_size+len(test_data[:train_size])], test_data[:train_size]['Adj Close'], label='Test Data')\n",
        "plt.plot(df.index[window_size:train_size], train_predictions_ann, label='ANN Predictions')\n",
        "plt.plot(df.index[train_size+window_size:train_size+window_size+len(test_predictions_ann)], test_predictions_ann, label='ANN Test Predictions')"
      ]
    },
    {
      "cell_type": "code",
      "execution_count": null,
      "metadata": {},
      "outputs": [
        {
          "ename": "ValueError",
          "evalue": "x and y must have same first dimension, but have shapes (489,) and (499,)",
          "output_type": "error",
          "traceback": [
            "\u001b[1;31m---------------------------------------------------------------------------\u001b[0m",
            "\u001b[1;31mValueError\u001b[0m                                Traceback (most recent call last)",
            "Cell \u001b[1;32mIn[129], line 3\u001b[0m\n\u001b[0;32m      1\u001b[0m plt\u001b[38;5;241m.\u001b[39mfigure(figsize\u001b[38;5;241m=\u001b[39m(\u001b[38;5;241m12\u001b[39m, \u001b[38;5;241m6\u001b[39m))\n\u001b[0;32m      2\u001b[0m plt\u001b[38;5;241m.\u001b[39mplot(df\u001b[38;5;241m.\u001b[39mindex[:train_size], train_data[\u001b[38;5;124m'\u001b[39m\u001b[38;5;124mAdj Close\u001b[39m\u001b[38;5;124m'\u001b[39m], label\u001b[38;5;241m=\u001b[39m\u001b[38;5;124m'\u001b[39m\u001b[38;5;124mTraining Data\u001b[39m\u001b[38;5;124m'\u001b[39m)\n\u001b[1;32m----> 3\u001b[0m \u001b[43mplt\u001b[49m\u001b[38;5;241;43m.\u001b[39;49m\u001b[43mplot\u001b[49m\u001b[43m(\u001b[49m\u001b[43mdf\u001b[49m\u001b[38;5;241;43m.\u001b[39;49m\u001b[43mindex\u001b[49m\u001b[43m[\u001b[49m\u001b[43mtrain_size\u001b[49m\u001b[38;5;241;43m+\u001b[39;49m\u001b[43mwindow_size\u001b[49m\u001b[43m:\u001b[49m\u001b[43m]\u001b[49m\u001b[43m,\u001b[49m\u001b[43m \u001b[49m\u001b[43mtest_data\u001b[49m\u001b[43m[\u001b[49m\u001b[38;5;124;43m'\u001b[39;49m\u001b[38;5;124;43mAdj Close\u001b[39;49m\u001b[38;5;124;43m'\u001b[39;49m\u001b[43m]\u001b[49m\u001b[43m,\u001b[49m\u001b[43m \u001b[49m\u001b[43mlabel\u001b[49m\u001b[38;5;241;43m=\u001b[39;49m\u001b[38;5;124;43m'\u001b[39;49m\u001b[38;5;124;43mTest Data\u001b[39;49m\u001b[38;5;124;43m'\u001b[39;49m\u001b[43m)\u001b[49m\n\u001b[0;32m      4\u001b[0m plt\u001b[38;5;241m.\u001b[39mplot(df\u001b[38;5;241m.\u001b[39mindex[window_size:train_size], train_predictions_ann, label\u001b[38;5;241m=\u001b[39m\u001b[38;5;124m'\u001b[39m\u001b[38;5;124mANN Predictions\u001b[39m\u001b[38;5;124m'\u001b[39m)\n\u001b[0;32m      5\u001b[0m plt\u001b[38;5;241m.\u001b[39mplot(df\u001b[38;5;241m.\u001b[39mindex[train_size\u001b[38;5;241m+\u001b[39mwindow_size:], test_predictions_ann, label\u001b[38;5;241m=\u001b[39m\u001b[38;5;124m'\u001b[39m\u001b[38;5;124mANN Test Predictions\u001b[39m\u001b[38;5;124m'\u001b[39m)\n",
            "File \u001b[1;32m~\\AppData\\Roaming\\Python\\Python311\\site-packages\\matplotlib\\pyplot.py:3575\u001b[0m, in \u001b[0;36mplot\u001b[1;34m(scalex, scaley, data, *args, **kwargs)\u001b[0m\n\u001b[0;32m   3567\u001b[0m \u001b[38;5;129m@_copy_docstring_and_deprecators\u001b[39m(Axes\u001b[38;5;241m.\u001b[39mplot)\n\u001b[0;32m   3568\u001b[0m \u001b[38;5;28;01mdef\u001b[39;00m \u001b[38;5;21mplot\u001b[39m(\n\u001b[0;32m   3569\u001b[0m     \u001b[38;5;241m*\u001b[39margs: \u001b[38;5;28mfloat\u001b[39m \u001b[38;5;241m|\u001b[39m ArrayLike \u001b[38;5;241m|\u001b[39m \u001b[38;5;28mstr\u001b[39m,\n\u001b[1;32m   (...)\u001b[0m\n\u001b[0;32m   3573\u001b[0m     \u001b[38;5;241m*\u001b[39m\u001b[38;5;241m*\u001b[39mkwargs,\n\u001b[0;32m   3574\u001b[0m ) \u001b[38;5;241m-\u001b[39m\u001b[38;5;241m>\u001b[39m \u001b[38;5;28mlist\u001b[39m[Line2D]:\n\u001b[1;32m-> 3575\u001b[0m     \u001b[38;5;28;01mreturn\u001b[39;00m \u001b[43mgca\u001b[49m\u001b[43m(\u001b[49m\u001b[43m)\u001b[49m\u001b[38;5;241;43m.\u001b[39;49m\u001b[43mplot\u001b[49m\u001b[43m(\u001b[49m\n\u001b[0;32m   3576\u001b[0m \u001b[43m        \u001b[49m\u001b[38;5;241;43m*\u001b[39;49m\u001b[43margs\u001b[49m\u001b[43m,\u001b[49m\n\u001b[0;32m   3577\u001b[0m \u001b[43m        \u001b[49m\u001b[43mscalex\u001b[49m\u001b[38;5;241;43m=\u001b[39;49m\u001b[43mscalex\u001b[49m\u001b[43m,\u001b[49m\n\u001b[0;32m   3578\u001b[0m \u001b[43m        \u001b[49m\u001b[43mscaley\u001b[49m\u001b[38;5;241;43m=\u001b[39;49m\u001b[43mscaley\u001b[49m\u001b[43m,\u001b[49m\n\u001b[0;32m   3579\u001b[0m \u001b[43m        \u001b[49m\u001b[38;5;241;43m*\u001b[39;49m\u001b[38;5;241;43m*\u001b[39;49m\u001b[43m(\u001b[49m\u001b[43m{\u001b[49m\u001b[38;5;124;43m\"\u001b[39;49m\u001b[38;5;124;43mdata\u001b[39;49m\u001b[38;5;124;43m\"\u001b[39;49m\u001b[43m:\u001b[49m\u001b[43m \u001b[49m\u001b[43mdata\u001b[49m\u001b[43m}\u001b[49m\u001b[43m \u001b[49m\u001b[38;5;28;43;01mif\u001b[39;49;00m\u001b[43m \u001b[49m\u001b[43mdata\u001b[49m\u001b[43m \u001b[49m\u001b[38;5;129;43;01mis\u001b[39;49;00m\u001b[43m \u001b[49m\u001b[38;5;129;43;01mnot\u001b[39;49;00m\u001b[43m \u001b[49m\u001b[38;5;28;43;01mNone\u001b[39;49;00m\u001b[43m \u001b[49m\u001b[38;5;28;43;01melse\u001b[39;49;00m\u001b[43m \u001b[49m\u001b[43m{\u001b[49m\u001b[43m}\u001b[49m\u001b[43m)\u001b[49m\u001b[43m,\u001b[49m\n\u001b[0;32m   3580\u001b[0m \u001b[43m        \u001b[49m\u001b[38;5;241;43m*\u001b[39;49m\u001b[38;5;241;43m*\u001b[39;49m\u001b[43mkwargs\u001b[49m\u001b[43m,\u001b[49m\n\u001b[0;32m   3581\u001b[0m \u001b[43m    \u001b[49m\u001b[43m)\u001b[49m\n",
            "File \u001b[1;32m~\\AppData\\Roaming\\Python\\Python311\\site-packages\\matplotlib\\axes\\_axes.py:1721\u001b[0m, in \u001b[0;36mAxes.plot\u001b[1;34m(self, scalex, scaley, data, *args, **kwargs)\u001b[0m\n\u001b[0;32m   1478\u001b[0m \u001b[38;5;250m\u001b[39m\u001b[38;5;124;03m\"\"\"\u001b[39;00m\n\u001b[0;32m   1479\u001b[0m \u001b[38;5;124;03mPlot y versus x as lines and/or markers.\u001b[39;00m\n\u001b[0;32m   1480\u001b[0m \n\u001b[1;32m   (...)\u001b[0m\n\u001b[0;32m   1718\u001b[0m \u001b[38;5;124;03m(``'green'``) or hex strings (``'#008000'``).\u001b[39;00m\n\u001b[0;32m   1719\u001b[0m \u001b[38;5;124;03m\"\"\"\u001b[39;00m\n\u001b[0;32m   1720\u001b[0m kwargs \u001b[38;5;241m=\u001b[39m cbook\u001b[38;5;241m.\u001b[39mnormalize_kwargs(kwargs, mlines\u001b[38;5;241m.\u001b[39mLine2D)\n\u001b[1;32m-> 1721\u001b[0m lines \u001b[38;5;241m=\u001b[39m [\u001b[38;5;241m*\u001b[39m\u001b[38;5;28mself\u001b[39m\u001b[38;5;241m.\u001b[39m_get_lines(\u001b[38;5;28mself\u001b[39m, \u001b[38;5;241m*\u001b[39margs, data\u001b[38;5;241m=\u001b[39mdata, \u001b[38;5;241m*\u001b[39m\u001b[38;5;241m*\u001b[39mkwargs)]\n\u001b[0;32m   1722\u001b[0m \u001b[38;5;28;01mfor\u001b[39;00m line \u001b[38;5;129;01min\u001b[39;00m lines:\n\u001b[0;32m   1723\u001b[0m     \u001b[38;5;28mself\u001b[39m\u001b[38;5;241m.\u001b[39madd_line(line)\n",
            "File \u001b[1;32m~\\AppData\\Roaming\\Python\\Python311\\site-packages\\matplotlib\\axes\\_base.py:303\u001b[0m, in \u001b[0;36m_process_plot_var_args.__call__\u001b[1;34m(self, axes, data, *args, **kwargs)\u001b[0m\n\u001b[0;32m    301\u001b[0m     this \u001b[38;5;241m+\u001b[39m\u001b[38;5;241m=\u001b[39m args[\u001b[38;5;241m0\u001b[39m],\n\u001b[0;32m    302\u001b[0m     args \u001b[38;5;241m=\u001b[39m args[\u001b[38;5;241m1\u001b[39m:]\n\u001b[1;32m--> 303\u001b[0m \u001b[38;5;28;01myield from\u001b[39;00m \u001b[38;5;28;43mself\u001b[39;49m\u001b[38;5;241;43m.\u001b[39;49m\u001b[43m_plot_args\u001b[49m\u001b[43m(\u001b[49m\n\u001b[0;32m    304\u001b[0m \u001b[43m    \u001b[49m\u001b[43maxes\u001b[49m\u001b[43m,\u001b[49m\u001b[43m \u001b[49m\u001b[43mthis\u001b[49m\u001b[43m,\u001b[49m\u001b[43m \u001b[49m\u001b[43mkwargs\u001b[49m\u001b[43m,\u001b[49m\u001b[43m \u001b[49m\u001b[43mambiguous_fmt_datakey\u001b[49m\u001b[38;5;241;43m=\u001b[39;49m\u001b[43mambiguous_fmt_datakey\u001b[49m\u001b[43m)\u001b[49m\n",
            "File \u001b[1;32m~\\AppData\\Roaming\\Python\\Python311\\site-packages\\matplotlib\\axes\\_base.py:499\u001b[0m, in \u001b[0;36m_process_plot_var_args._plot_args\u001b[1;34m(self, axes, tup, kwargs, return_kwargs, ambiguous_fmt_datakey)\u001b[0m\n\u001b[0;32m    496\u001b[0m     axes\u001b[38;5;241m.\u001b[39myaxis\u001b[38;5;241m.\u001b[39mupdate_units(y)\n\u001b[0;32m    498\u001b[0m \u001b[38;5;28;01mif\u001b[39;00m x\u001b[38;5;241m.\u001b[39mshape[\u001b[38;5;241m0\u001b[39m] \u001b[38;5;241m!=\u001b[39m y\u001b[38;5;241m.\u001b[39mshape[\u001b[38;5;241m0\u001b[39m]:\n\u001b[1;32m--> 499\u001b[0m     \u001b[38;5;28;01mraise\u001b[39;00m \u001b[38;5;167;01mValueError\u001b[39;00m(\u001b[38;5;124mf\u001b[39m\u001b[38;5;124m\"\u001b[39m\u001b[38;5;124mx and y must have same first dimension, but \u001b[39m\u001b[38;5;124m\"\u001b[39m\n\u001b[0;32m    500\u001b[0m                      \u001b[38;5;124mf\u001b[39m\u001b[38;5;124m\"\u001b[39m\u001b[38;5;124mhave shapes \u001b[39m\u001b[38;5;132;01m{\u001b[39;00mx\u001b[38;5;241m.\u001b[39mshape\u001b[38;5;132;01m}\u001b[39;00m\u001b[38;5;124m and \u001b[39m\u001b[38;5;132;01m{\u001b[39;00my\u001b[38;5;241m.\u001b[39mshape\u001b[38;5;132;01m}\u001b[39;00m\u001b[38;5;124m\"\u001b[39m)\n\u001b[0;32m    501\u001b[0m \u001b[38;5;28;01mif\u001b[39;00m x\u001b[38;5;241m.\u001b[39mndim \u001b[38;5;241m>\u001b[39m \u001b[38;5;241m2\u001b[39m \u001b[38;5;129;01mor\u001b[39;00m y\u001b[38;5;241m.\u001b[39mndim \u001b[38;5;241m>\u001b[39m \u001b[38;5;241m2\u001b[39m:\n\u001b[0;32m    502\u001b[0m     \u001b[38;5;28;01mraise\u001b[39;00m \u001b[38;5;167;01mValueError\u001b[39;00m(\u001b[38;5;124mf\u001b[39m\u001b[38;5;124m\"\u001b[39m\u001b[38;5;124mx and y can be no greater than 2D, but have \u001b[39m\u001b[38;5;124m\"\u001b[39m\n\u001b[0;32m    503\u001b[0m                      \u001b[38;5;124mf\u001b[39m\u001b[38;5;124m\"\u001b[39m\u001b[38;5;124mshapes \u001b[39m\u001b[38;5;132;01m{\u001b[39;00mx\u001b[38;5;241m.\u001b[39mshape\u001b[38;5;132;01m}\u001b[39;00m\u001b[38;5;124m and \u001b[39m\u001b[38;5;132;01m{\u001b[39;00my\u001b[38;5;241m.\u001b[39mshape\u001b[38;5;132;01m}\u001b[39;00m\u001b[38;5;124m\"\u001b[39m)\n",
            "\u001b[1;31mValueError\u001b[0m: x and y must have same first dimension, but have shapes (489,) and (499,)"
          ]
        },
        {
          "data": {
            "image/png": "[encoded data removed]",
            "text/plain": [
              "<Figure size 1200x600 with 1 Axes>"
            ]
          },
          "metadata": {},
          "output_type": "display_data"
        }
      ],
      "source": [
        "plt.figure(figsize=(12, 6))\n",
        "plt.plot(df.index[:train_size], train_data['Adj Close'], label='Training Data')\n",
        "plt.plot(df.index[train_size+window_size:], test_data['Adj Close'], label='Test Data')\n",
        "plt.plot(df.index[window_size:train_size], train_predictions_ann, label='ANN Predictions')\n",
        "plt.plot(df.index[train_size+window_size:], test_predictions_ann, label='ANN Test Predictions')\n",
        "plt.plot(df.index[window_size:train_size], train_predictions_lstm, label='LSTM Predictions')\n",
        "plt.plot(df.index[train_size+window_size:], test_predictions_lstm, label='LSTM Test Predictions')\n",
        "plt.plot(df.index[window_size:train_size], train_predictions_gru, label='GRU Predictions')\n",
        "plt.plot(df.index[train_size+window_size:], test_predictions_gru, label='GRU Test Predictions')\n",
        "plt.title('Crude Oil Price Forecasting')\n",
        "plt.xlabel('Date')\n",
        "plt.ylabel('Adj Close')\n",
        "plt.legend()\n",
        "plt.show()"
      ]
    }
  ],
  "metadata": {
    "colab": {
      "provenance": []
    },
    "kernelspec": {
      "display_name": "Python 3",
      "name": "python3"
    },
    "language_info": {
      "codemirror_mode": {
        "name": "ipython",
        "version": 3
      },
      "file_extension": ".py",
      "mimetype": "text/x-python",
      "name": "python",
      "nbconvert_exporter": "python",
      "pygments_lexer": "ipython3",
      "version": "3.11.5"
    }
  },
  "nbformat": 4,
  "nbformat_minor": 0
}
