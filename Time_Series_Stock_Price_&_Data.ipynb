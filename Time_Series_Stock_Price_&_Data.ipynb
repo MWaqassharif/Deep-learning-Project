{
  "cells": [
    {
      "cell_type": "markdown",
      "metadata": {
        "id": "ombOKG-v_vzw"
      },
      "source": [
        "# **Alphabet Inc. (GOOGL) Stock Historical Prices & Data**\n",
        "\n",
        "\n",
        "\n",
        " **Step-1:Import the necessary libraries.**\n",
        "\n",
        "**Step-2: Data Preprocessing**\n",
        "\n",
        "1-Download the data from Yahoo Finance.\n",
        "\n",
        "2-Check for  missing  value\n",
        "\n",
        "3-Resample the Data\n",
        "\n",
        "4-Normalization and Scaling\n",
        "\n",
        "5-Train-Test Split\n",
        "\n",
        "6-Reshape Data for RNN/LSTM\n",
        "\n",
        "**Step-3: Build Model**\n",
        "\n",
        "1st:Simple RNN Model\n",
        "\n",
        "2nd: LSTM Model\n",
        "\n",
        "3rd: ARIMA Model\n",
        "\n",
        "4th: SARIMA Model\n",
        "\n",
        "**Step-4: Prediction and RMSE**\n",
        "\n",
        "\n"
      ]
    },
    {
      "cell_type": "markdown",
      "metadata": {
        "id": "MzxrTPUUB8wR"
      },
      "source": [
        "# **Step-1: Import the necessary libraries.**"
      ]
    },
    {
      "cell_type": "code",
      "execution_count": null,
      "metadata": {
        "id": "cK5QBo1lnuHI"
      },
      "outputs": [],
      "source": [
        "import numpy as np\n",
        "import pandas as pd\n",
        "import matplotlib.pyplot as plt\n",
        "import datetime as dt\n",
        "import yfinance as yf\n",
        "import math\n",
        "import statsmodels.api as sm\n",
        "from sklearn.preprocessing import MinMaxScaler\n",
        "from sklearn.model_selection import train_test_split\n",
        "from sklearn.metrics import mean_squared_error\n",
        "from keras.models import Sequential\n",
        "from keras.layers import Dense, LSTM,SimpleRNN\n",
        "from keras.callbacks import EarlyStopping\n",
        "from keras.optimizers import Adam\n",
        "from statsmodels.tsa.arima.model import ARIMA\n",
        "from sklearn.model_selection import TimeSeriesSplit\n"
      ]
    },
    {
      "cell_type": "markdown",
      "metadata": {
        "id": "eHulBJfvC982"
      },
      "source": [
        "# **Step-2: Data Preprocessing**"
      ]
    },
    {
      "cell_type": "markdown",
      "metadata": {
        "id": "e4DK_lPeDG_D"
      },
      "source": [
        "**1- Download the data from Yahoo Finance.**"
      ]
    },
    {
      "cell_type": "code",
      "execution_count": null,
      "metadata": {
        "id": "HraikHPLqxCk"
      },
      "outputs": [],
      "source": [
        "start = dt.datetime(2015,1,1)\n",
        "end = dt.datetime(2020,1,1)\n",
        "\n",
        "\n",
        "df = yf.download(\"GOOGL\",start,end)\n",
        "\n",
        "pd.set_option('display.max_columns', None)\n",
        "pd.set_option('display.max_rows', 5)\n",
        "df"
      ]
    },
    {
      "cell_type": "markdown",
      "metadata": {
        "id": "7FJuFAkmpvbk"
      },
      "source": [
        "**2-Check for  missing  value**"
      ]
    },
    {
      "cell_type": "code",
      "execution_count": null,
      "metadata": {
        "id": "rc-l4iLpiR5U"
      },
      "outputs": [],
      "source": [
        "missing_values = df.isnull().sum().sum()\n",
        "print(\"Missing values total count per column:\\n\", missing_values)\n",
        "print(\"\\nDataFrame info:\")\n",
        "df.info()\n"
      ]
    },
    {
      "cell_type": "markdown",
      "metadata": {
        "id": "gcPq5Kpptwer"
      },
      "source": [
        "**3-Resample the Data**"
      ]
    },
    {
      "cell_type": "code",
      "execution_count": null,
      "metadata": {
        "id": "a3YIWbSTtz2s"
      },
      "outputs": [],
      "source": [
        "weekly_df = df.resample('W').mean()\n",
        "monthly_df = df.resample('M').mean()\n",
        "\n",
        "weekly_df.to_csv('weekly_df.csv')\n",
        "monthly_df.to_csv('monthly_df.csv')\n",
        "\n",
        "print(\"Weekly Data:\")\n",
        "print(weekly_df.head())\n",
        "\n",
        "print(\"\\nMonthly Data:\")\n",
        "print(monthly_df.head())"
      ]
    },
    {
      "cell_type": "markdown",
      "metadata": {
        "id": "Jxa4-Z1c61TR"
      },
      "source": [
        "**4-Normalization and Scaling**"
      ]
    },
    {
      "cell_type": "code",
      "execution_count": null,
      "metadata": {
        "id": "PPTKXWNg64xa"
      },
      "outputs": [],
      "source": [
        "from sklearn.preprocessing import MinMaxScaler\n",
        "\n",
        "\n",
        "scaler = MinMaxScaler()\n",
        "scaled_df = scaler.fit_transform(monthly_df[[\"Close\"]])\n",
        "\n",
        "\n",
        "scaled_df = pd.DataFrame(scaled_df,index=monthly_df.index, columns=[\"Close\"])\n",
        "\n",
        "print(\"Scaled Data:\")\n",
        "print(scaled_df.head())\n",
        "print(\"Lenth of scaled data\")\n",
        "print(len(scaled_df))"
      ]
    },
    {
      "cell_type": "markdown",
      "metadata": {
        "id": "84eZr3EX-6qO"
      },
      "source": [
        "**5-Train-Test Split**"
      ]
    },
    {
      "cell_type": "code",
      "execution_count": null,
      "metadata": {
        "id": "qN1KMkTE_QeV"
      },
      "outputs": [],
      "source": [
        "train_size = int(len(scaled_df) * 0.8)\n",
        "train_df = scaled_df[:train_size]\n",
        "test_df = scaled_df[train_size:]\n"
      ]
    },
    {
      "cell_type": "code",
      "execution_count": null,
      "metadata": {
        "id": "GjJCM4Pk2K3x"
      },
      "outputs": [],
      "source": [
        "print(\"Train Data:\")\n",
        "print(train_df)\n",
        "print(\"\\nTest Data:\")\n",
        "print(test_df)"
      ]
    },
    {
      "cell_type": "markdown",
      "metadata": {
        "id": "nhXmN7-K31OW"
      },
      "source": [
        "**6-Reshape Data for RNN/LSTM**"
      ]
    },
    {
      "cell_type": "code",
      "execution_count": null,
      "metadata": {
        "id": "srttX6mTd07i"
      },
      "outputs": [],
      "source": [
        "len(train_df)"
      ]
    },
    {
      "cell_type": "code",
      "execution_count": null,
      "metadata": {
        "id": "c6xhfTJMcrjG"
      },
      "outputs": [],
      "source": [
        "X_train = []\n",
        "y_train = []\n",
        "for i in range(6, len(train_df)):\n",
        "    X_train.append(train_df.iloc[i-6:i])\n",
        "    y_train.append(train_df.iloc[i])\n",
        "\n",
        "for idx, (x, y) in enumerate(zip(X_train, y_train)):\n",
        "    print(f\"Sample {idx + 1}:\")\n",
        "    print(f\"X_train:\\n{x}\\n\")\n",
        "    print(f\"y_train:\\n{y}\\n\")"
      ]
    },
    {
      "cell_type": "code",
      "execution_count": null,
      "metadata": {
        "id": "NkmMMqQ_guUc"
      },
      "outputs": [],
      "source": [
        "len(test_df)"
      ]
    },
    {
      "cell_type": "code",
      "execution_count": null,
      "metadata": {
        "id": "w6N14d2ogJBw"
      },
      "outputs": [],
      "source": [
        "X_test = []\n",
        "y_test = []\n",
        "for i in range(6, len(test_df)):\n",
        "    X_test.append(test_df.iloc[i-6:i])\n",
        "    y_test.append(test_df.iloc[i])\n",
        "\n",
        "for idx, (x, y) in enumerate(zip(X_test, y_test)):\n",
        "    print(f\"Sample {idx + 1}:\")\n",
        "    print(f\"X_test:\\n{x}\\n\")\n",
        "    print(f\"y_test:\\n{y}\\n\")"
      ]
    },
    {
      "cell_type": "code",
      "execution_count": null,
      "metadata": {
        "id": "yUulowB-iMhg"
      },
      "outputs": [],
      "source": [
        "X_train, y_train = np.array(X_train), np.array(y_train)\n",
        "X_test, y_test = np.array(X_test), np.array(y_test)\n",
        "print(\"X_train shape:\", X_train.shape)\n",
        "print(\"y_train shape:\", y_train.shape)\n",
        "print(\"X_test shape:\", X_test.shape)\n",
        "print(\"y_test shape:\", y_test.shape)\n"
      ]
    },
    {
      "cell_type": "code",
      "execution_count": null,
      "metadata": {
        "id": "qG0cW8RBko3q"
      },
      "outputs": [],
      "source": [
        "X_train = X_train.reshape(X_train.shape[0], X_train.shape[1], 1)\n",
        "X_test = X_test.reshape(X_test.shape[0], X_test.shape[1], 1)\n",
        "y_train = y_train.reshape(y_train.shape[0], 1)\n",
        "y_test = y_test.reshape(y_test.shape[0], 1)"
      ]
    },
    {
      "cell_type": "markdown",
      "metadata": {
        "id": "iVbuym1PE_CH"
      },
      "source": [
        "# **Step-3: Build Model**"
      ]
    },
    {
      "cell_type": "markdown",
      "metadata": {
        "id": "5CtW5MoJmvCN"
      },
      "source": [
        "**1st:Simple RNN Model**"
      ]
    },
    {
      "cell_type": "code",
      "execution_count": null,
      "metadata": {
        "id": "vhgMMGKl14mi"
      },
      "outputs": [],
      "source": [
        "from keras.layers import Dropout\n",
        "\n",
        "rnn_model = Sequential()\n",
        "rnn_model.add(SimpleRNN(units=50, return_sequences=True, input_shape=(X_train.shape[1], 1)))\n",
        "rnn_model.add(Dropout(0.2))\n",
        "rnn_model.add(SimpleRNN(units=50))\n",
        "rnn_model.add(Dropout(0.2))\n",
        "rnn_model.add(Dense(units=1))\n",
        "rnn_model.compile(optimizer='adam', loss='mean_squared_error')\n",
        "rnn_model.fit(X_train, y_train, epochs=100, batch_size=32, verbose=1, callbacks=EarlyStopping(monitor='loss', patience=10, verbose=1))\n"
      ]
    },
    {
      "cell_type": "markdown",
      "metadata": {
        "id": "DeG37gK_sUgk"
      },
      "source": [
        "**2nd: LSTM Model**"
      ]
    },
    {
      "cell_type": "code",
      "execution_count": null,
      "metadata": {
        "id": "RLNSm_qyseSG"
      },
      "outputs": [],
      "source": [
        "lstm_model = Sequential()\n",
        "lstm_model.add(LSTM(units=50, return_sequences=True, input_shape=(X_train.shape[1], 1)))\n",
        "lstm_model.add(Dropout(0.2))\n",
        "lstm_model.add(LSTM(units=50))\n",
        "lstm_model.add(Dropout(0.2))\n",
        "lstm_model.add(Dense(units=1))\n",
        "lstm_model.compile(optimizer='adam', loss='mean_squared_error')\n",
        "lstm_model.fit(X_train, y_train, epochs=100, batch_size=32, verbose=1, callbacks=EarlyStopping(monitor='loss', patience=10, verbose=1))"
      ]
    },
    {
      "cell_type": "markdown",
      "metadata": {
        "id": "JcR8m5ZXtyi_"
      },
      "source": [
        "**3rd: ARIMA Model**"
      ]
    },
    {
      "cell_type": "code",
      "execution_count": null,
      "metadata": {
        "id": "m6BffLLB9Pdc"
      },
      "outputs": [],
      "source": [
        "p, d, q = 1, 1, 1\n",
        "\n",
        "arima_model = ARIMA(train_df['Close'], order=(p, d, q))\n",
        "arima_model_fit = arima_model.fit(method_kwargs={\"maxiter\": 500})\n",
        "\n",
        "\n",
        "arima_pred = arima_model_fit.forecast(steps=len(test_df))\n",
        "\n",
        "print(\"ARIMA Predictions:\")\n",
        "print(arima_pred)"
      ]
    },
    {
      "cell_type": "markdown",
      "metadata": {
        "id": "mKeoRW7pvkOm"
      },
      "source": [
        "**4th: SARIMA Model**"
      ]
    },
    {
      "cell_type": "code",
      "execution_count": null,
      "metadata": {
        "id": "FIpMYsEzv6Jp"
      },
      "outputs": [],
      "source": [
        "\n",
        "sarima_model = sm.tsa.statespace.SARIMAX(train_df['Close'], order=(1, 1, 1), seasonal_order=(1, 1, 1, 12))\n",
        "sarima_model_fit = sarima_model.fit(method_kwargs={\"maxiter\": 500})\n",
        "\n",
        "sarima_pred = sarima_model_fit.forecast(steps=len(test_df))\n",
        "\n",
        "print(\"SARIMA Predictions:\")\n",
        "print(sarima_pred)\n"
      ]
    },
    {
      "cell_type": "markdown",
      "metadata": {
        "id": "UsVoz4ggwamg"
      },
      "source": [
        "# **Step-4: Prediction and RMSE**"
      ]
    },
    {
      "cell_type": "markdown",
      "metadata": {
        "id": "-9X8_US8zMde"
      },
      "source": [
        "**Function to calculate RMSE**"
      ]
    },
    {
      "cell_type": "code",
      "execution_count": null,
      "metadata": {
        "id": "oB-pSeH-y_Sg"
      },
      "outputs": [],
      "source": [
        "def calculate_rmse(y_true, y_pred):\n",
        "    return np.sqrt(mean_squared_error(y_true, y_pred))"
      ]
    },
    {
      "cell_type": "markdown",
      "metadata": {
        "id": "K4EedXxfzTB7"
      },
      "source": [
        " **RNN Predictions on Training Data and on Test Data**"
      ]
    },
    {
      "cell_type": "code",
      "execution_count": null,
      "metadata": {
        "id": "is_uck_uzGJA"
      },
      "outputs": [],
      "source": [
        "y_train_rnn_pred = rnn_model.predict(X_train)\n",
        "rnn_train_rmse = calculate_rmse(y_train, y_train_rnn_pred)\n",
        "\n",
        "\n",
        "rnn_test_pred = rnn_model.predict(X_test)\n",
        "rnn_test_rmse = calculate_rmse(y_test, rnn_test_pred)\n",
        "\n",
        "print(\"RNN Training RMSE:\", rnn_train_rmse)\n",
        "print(\"RNN Test RMSE:\", rnn_test_rmse)"
      ]
    },
    {
      "cell_type": "markdown",
      "metadata": {
        "id": "PPH9FofQzstB"
      },
      "source": [
        "**LSTM Predictions on Training Data  and on Test Data**"
      ]
    },
    {
      "cell_type": "code",
      "execution_count": null,
      "metadata": {
        "id": "guBU9Fm7zqJb"
      },
      "outputs": [],
      "source": [
        "y_train_lstm_pred = lstm_model.predict(X_train)\n",
        "lstm_train_rmse = calculate_rmse(y_train, y_train_lstm_pred)\n",
        "\n",
        "lstm_test_pred = lstm_model.predict(X_test)\n",
        "lstm_test_rmse = calculate_rmse(y_test, lstm_test_pred)\n",
        "\n",
        "print(\"LSTM Training RMSE:\", lstm_train_rmse)\n",
        "print(\"LSTM Test RMSE:\", lstm_test_rmse)"
      ]
    },
    {
      "cell_type": "markdown",
      "metadata": {
        "id": "NUN6SQOmz-Yc"
      },
      "source": [
        "**ARIMA Predictions on Training Data and on Test Data**"
      ]
    },
    {
      "cell_type": "code",
      "execution_count": null,
      "metadata": {
        "id": "JMIyG075z8Nf"
      },
      "outputs": [],
      "source": [
        "y_train_arima_pred = arima_model_fit.predict(start=0, end=len(train_df)-1)\n",
        "arima_train_rmse = calculate_rmse(train_df['Close'], y_train_arima_pred)\n",
        "\n",
        "\n",
        "y_test_arima_pred = arima_model_fit.forecast(steps=len(test_df))\n",
        "arima_test_rmse = calculate_rmse(test_df['Close'], y_test_arima_pred)\n",
        "\n",
        "print(\"ARIMA Training RMSE:\", arima_train_rmse)\n",
        "print(\"ARIMA Test RMSE:\", arima_test_rmse)"
      ]
    },
    {
      "cell_type": "markdown",
      "metadata": {
        "id": "tFgiFkta0S93"
      },
      "source": [
        "**SARIMA Predictions on Training Data and on Test Data**"
      ]
    },
    {
      "cell_type": "code",
      "execution_count": null,
      "metadata": {
        "id": "-vrWqn9X0Q7M"
      },
      "outputs": [],
      "source": [
        "y_train_sarima_pred = sarima_model_fit.predict(start=0, end=len(train_df)-1)\n",
        "sarima_train_rmse = calculate_rmse(train_df['Close'], y_train_sarima_pred)\n",
        "\n",
        "y_test_sarima_pred = sarima_model_fit.forecast(steps=len(test_df))\n",
        "sarima_test_rmse = calculate_rmse(test_df['Close'], y_test_sarima_pred)\n",
        "\n",
        "print(\"SARIMA Training RMSE:\", sarima_train_rmse)\n",
        "print(\"SARIMA Test RMSE:\", sarima_test_rmse)"
      ]
    },
    {
      "cell_type": "markdown",
      "metadata": {
        "id": "7YkeJ7jF0meI"
      },
      "source": [
        "**Summarizing results**"
      ]
    },
    {
      "cell_type": "code",
      "execution_count": null,
      "metadata": {
        "id": "EUTbv4E10il1"
      },
      "outputs": [],
      "source": [
        "print(\"\\nSummary of RMSE:\")\n",
        "print(\"RNN Training RMSE:\", rnn_train_rmse, \"RNN Test RMSE:\", rnn_test_rmse)\n",
        "print(\"LSTM Training RMSE:\", lstm_train_rmse, \"LSTM Test RMSE:\", lstm_test_rmse)\n",
        "print(\"ARIMA Training RMSE:\", arima_train_rmse, \"ARIMA Test RMSE:\", arima_test_rmse)\n",
        "print(\"SARIMA Training RMSE:\", sarima_train_rmse, \"SARIMA Test RMSE:\", sarima_test_rmse)"
      ]
    },
    {
      "cell_type": "markdown",
      "metadata": {
        "id": "rRlXYL4mdH3_"
      },
      "source": [
        "# **Best Model: RNN**\n",
        "**Performance:**\n",
        "1. Training RMSE: 0.0659\n",
        "2. Test RMSE: 0.0955\n",
        "**Key Points:**\n",
        "**Generalization:** The RNN model has the lowest test RMSE among all the models, indicating that it generalizes well to unseen data.\n",
        "\n",
        "**Balanced Performance:** The RNN's training and test RMSE values are relatively close, suggesting it doesn't overfit the training data."
      ]
    }
  ],
  "metadata": {
    "accelerator": "GPU",
    "colab": {
      "gpuType": "T4",
      "private_outputs": true,
      "provenance": []
    },
    "kernelspec": {
      "display_name": "Python 3",
      "name": "python3"
    },
    "language_info": {
      "codemirror_mode": {
        "name": "ipython",
        "version": 3
      },
      "file_extension": ".py",
      "mimetype": "text/x-python",
      "name": "python",
      "nbconvert_exporter": "python",
      "pygments_lexer": "ipython3",
      "version": "3.11.5"
    }
  },
  "nbformat": 4,
  "nbformat_minor": 0
}
